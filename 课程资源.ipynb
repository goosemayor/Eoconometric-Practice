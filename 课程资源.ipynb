{
 "cells": [
  {
   "cell_type": "markdown",
   "id": "179664da-42f3-45c7-a84b-33d7ecad7171",
   "metadata": {},
   "source": [
    "# 课程资源"
   ]
  },
  {
   "cell_type": "markdown",
   "id": "a7db032c-ee62-4590-add1-875a3185a9b6",
   "metadata": {},
   "source": [
    "## Penn State's STAT 510: Applied Time Series Analysis\n",
    "https://online.stat.psu.edu/stat510/"
   ]
  },
  {
   "cell_type": "code",
   "execution_count": null,
   "id": "4c7fd354-b2e0-4275-abdc-ef72d57b1fb9",
   "metadata": {},
   "outputs": [],
   "source": []
  }
 ],
 "metadata": {
  "kernelspec": {
   "display_name": "Python 3 (ipykernel)",
   "language": "python",
   "name": "python3"
  },
  "language_info": {
   "codemirror_mode": {
    "name": "ipython",
    "version": 3
   },
   "file_extension": ".py",
   "mimetype": "text/x-python",
   "name": "python",
   "nbconvert_exporter": "python",
   "pygments_lexer": "ipython3",
   "version": "3.9.13"
  }
 },
 "nbformat": 4,
 "nbformat_minor": 5
}
