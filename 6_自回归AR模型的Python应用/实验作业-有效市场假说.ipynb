{
 "cells": [
  {
   "cell_type": "markdown",
   "id": "9c97d146-1e6c-4f3f-a581-dac45ee4b0c1",
   "metadata": {},
   "source": [
    "# 实验：自回归AR模型的应用——有效市场假说"
   ]
  },
  {
   "cell_type": "markdown",
   "id": "6b9bf335-ca41-448a-961b-42e61220283c",
   "metadata": {},
   "source": [
    "## 有效市场假说（EMH）"
   ]
  },
  {
   "cell_type": "markdown",
   "id": "2ba5f5c3-c0bd-417f-b294-a211d72ca1c9",
   "metadata": {},
   "source": [
    "有效市场假说（Efficient Markets Hypothesis，简称EMH）是由尤金·法玛（Eugene Fama）于1970年深化并提出的。\n",
    "\n",
    "“有效市场假说”包含以下几个要点：\n",
    "\n",
    "第一， 在市场上的每个人都是理性的经济人，金融市场上每只股票所代表的各家公司都处于这些理性人的严格监视之下，他们每天都在进行基本分析，以公司未来的获利性来评价公司的股票价格，把未来价值折算成今天的现值，并谨慎地在风险与收益之间进行权衡取舍。\n",
    "\n",
    "第二， 股票的价格反映了这些理性人的供求的平衡，想买的人正好等于想卖的人，即，认为股价被高估的人与认为股价被低估的人正好相等，假如有人发现这两者不等，即存在套利的可能性的话，他们立即会用买进或卖出股票的办法使股价迅速变动到能够使二者相等为止。\n",
    "\n",
    "第三， 股票的价格也能充分反映该资产的所有可获得的信息，即\"信息有效\"，当信息变动时，股票的价格就一定会随之变动。一个利好消息或利空消息刚刚传出时，股票的价格就开始异动，当它已经路人皆知时，股票的价格也已经涨或跌到适当的价位了。\n",
    "\n",
    "\"有效市场假说\"实际上意味着\"天下没有免费的午餐\"，世上没有唾手可得之物。在一个正常的有效率的市场上，每个人都别指望发意外之财，所以我们花时间去看路上是否有钱好拣是不明智的，我们费心去分析股票的价值也是无益的，它白费我们的心思。\n",
    "\n",
    "当然，\"有效市场假说\"只是一种理论假说，实际上，并非每个人总是理性的，也并非在每一时点上都是信息有效的。\"这种理论也许并不完全正确\"，曼昆说，\"但是，有效市场假说作为一种对世界的描述，比你认为的要好得多。\"\n",
    "摘自MBA百科"
   ]
  },
  {
   "cell_type": "markdown",
   "id": "fb1e5869-dc64-4b8d-9d28-589c93d2beb5",
   "metadata": {},
   "source": [
    "### 实验要求\n",
    "1. 读取上证指数的日价格数据\n",
    "2. 计算日收益率、周收益率和月度收益率\n",
    "3. 测试日收益率、周收益率和月度收益率三个序列的平稳性\n",
    "4. 应用AR模型在日收益率序列、周收益率序列和月收益率序列\n",
    "5. 结合有效市场假说，解释以上得到的结论。"
   ]
  },
  {
   "cell_type": "markdown",
   "id": "e50b53e1-6606-4f8f-8e37-190c10174e36",
   "metadata": {},
   "source": [
    "## 1. 读取数据"
   ]
  },
  {
   "cell_type": "markdown",
   "id": "6778b292-9850-4b2f-b197-d6a885feba82",
   "metadata": {},
   "source": [
    "使用开源API工具，可以获取指定日期内的上证指数的价格数据。"
   ]
  },
  {
   "cell_type": "code",
   "execution_count": 3,
   "id": "b08a3cf6-1a3f-421b-8f09-27b5b08e65e2",
   "metadata": {},
   "outputs": [
    {
     "name": "stdout",
     "output_type": "stream",
     "text": [
      "本接口即将停止更新，请尽快使用Pro版接口：https://tushare.pro/document/2\n"
     ]
    },
    {
     "name": "stderr",
     "output_type": "stream",
     "text": [
      "/Users/hans/opt/anaconda3/lib/python3.9/site-packages/tushare/stock/trading.py:706: FutureWarning: The frame.append method is deprecated and will be removed from pandas in a future version. Use pandas.concat instead.\n",
      "  data = data.append(_get_k_data(url, dataflag,\n",
      "/Users/hans/opt/anaconda3/lib/python3.9/site-packages/tushare/stock/trading.py:706: FutureWarning: The frame.append method is deprecated and will be removed from pandas in a future version. Use pandas.concat instead.\n",
      "  data = data.append(_get_k_data(url, dataflag,\n"
     ]
    },
    {
     "data": {
      "text/html": [
       "<div>\n",
       "<style scoped>\n",
       "    .dataframe tbody tr th:only-of-type {\n",
       "        vertical-align: middle;\n",
       "    }\n",
       "\n",
       "    .dataframe tbody tr th {\n",
       "        vertical-align: top;\n",
       "    }\n",
       "\n",
       "    .dataframe thead th {\n",
       "        text-align: right;\n",
       "    }\n",
       "</style>\n",
       "<table border=\"1\" class=\"dataframe\">\n",
       "  <thead>\n",
       "    <tr style=\"text-align: right;\">\n",
       "      <th></th>\n",
       "      <th>date</th>\n",
       "      <th>open</th>\n",
       "      <th>close</th>\n",
       "      <th>high</th>\n",
       "      <th>low</th>\n",
       "      <th>volume</th>\n",
       "      <th>code</th>\n",
       "    </tr>\n",
       "  </thead>\n",
       "  <tbody>\n",
       "    <tr>\n",
       "      <th>0</th>\n",
       "      <td>2020-01-02</td>\n",
       "      <td>3066.34</td>\n",
       "      <td>3085.20</td>\n",
       "      <td>3098.10</td>\n",
       "      <td>3066.34</td>\n",
       "      <td>292470208.0</td>\n",
       "      <td>sh</td>\n",
       "    </tr>\n",
       "    <tr>\n",
       "      <th>1</th>\n",
       "      <td>2020-01-03</td>\n",
       "      <td>3089.02</td>\n",
       "      <td>3083.79</td>\n",
       "      <td>3093.82</td>\n",
       "      <td>3074.52</td>\n",
       "      <td>261496667.0</td>\n",
       "      <td>sh</td>\n",
       "    </tr>\n",
       "    <tr>\n",
       "      <th>2</th>\n",
       "      <td>2020-01-06</td>\n",
       "      <td>3070.91</td>\n",
       "      <td>3083.41</td>\n",
       "      <td>3107.20</td>\n",
       "      <td>3065.31</td>\n",
       "      <td>312575842.0</td>\n",
       "      <td>sh</td>\n",
       "    </tr>\n",
       "    <tr>\n",
       "      <th>3</th>\n",
       "      <td>2020-01-07</td>\n",
       "      <td>3085.49</td>\n",
       "      <td>3104.80</td>\n",
       "      <td>3105.45</td>\n",
       "      <td>3084.33</td>\n",
       "      <td>276583111.0</td>\n",
       "      <td>sh</td>\n",
       "    </tr>\n",
       "    <tr>\n",
       "      <th>4</th>\n",
       "      <td>2020-01-08</td>\n",
       "      <td>3094.24</td>\n",
       "      <td>3066.89</td>\n",
       "      <td>3094.24</td>\n",
       "      <td>3059.13</td>\n",
       "      <td>297872553.0</td>\n",
       "      <td>sh</td>\n",
       "    </tr>\n",
       "    <tr>\n",
       "      <th>...</th>\n",
       "      <td>...</td>\n",
       "      <td>...</td>\n",
       "      <td>...</td>\n",
       "      <td>...</td>\n",
       "      <td>...</td>\n",
       "      <td>...</td>\n",
       "      <td>...</td>\n",
       "    </tr>\n",
       "    <tr>\n",
       "      <th>620</th>\n",
       "      <td>2022-07-26</td>\n",
       "      <td>3254.19</td>\n",
       "      <td>3277.44</td>\n",
       "      <td>3282.41</td>\n",
       "      <td>3246.04</td>\n",
       "      <td>259468676.0</td>\n",
       "      <td>sh</td>\n",
       "    </tr>\n",
       "    <tr>\n",
       "      <th>621</th>\n",
       "      <td>2022-07-27</td>\n",
       "      <td>3271.78</td>\n",
       "      <td>3275.76</td>\n",
       "      <td>3282.57</td>\n",
       "      <td>3265.73</td>\n",
       "      <td>249131485.0</td>\n",
       "      <td>sh</td>\n",
       "    </tr>\n",
       "    <tr>\n",
       "      <th>622</th>\n",
       "      <td>2022-07-28</td>\n",
       "      <td>3287.50</td>\n",
       "      <td>3282.58</td>\n",
       "      <td>3305.71</td>\n",
       "      <td>3277.11</td>\n",
       "      <td>288055056.0</td>\n",
       "      <td>sh</td>\n",
       "    </tr>\n",
       "    <tr>\n",
       "      <th>623</th>\n",
       "      <td>2022-07-29</td>\n",
       "      <td>3282.81</td>\n",
       "      <td>3253.24</td>\n",
       "      <td>3294.80</td>\n",
       "      <td>3246.37</td>\n",
       "      <td>307331047.0</td>\n",
       "      <td>sh</td>\n",
       "    </tr>\n",
       "    <tr>\n",
       "      <th>624</th>\n",
       "      <td>2022-08-01</td>\n",
       "      <td>3246.62</td>\n",
       "      <td>3259.96</td>\n",
       "      <td>3264.30</td>\n",
       "      <td>3225.55</td>\n",
       "      <td>292204805.0</td>\n",
       "      <td>sh</td>\n",
       "    </tr>\n",
       "  </tbody>\n",
       "</table>\n",
       "<p>625 rows × 7 columns</p>\n",
       "</div>"
      ],
      "text/plain": [
       "           date     open    close     high      low       volume code\n",
       "0    2020-01-02  3066.34  3085.20  3098.10  3066.34  292470208.0   sh\n",
       "1    2020-01-03  3089.02  3083.79  3093.82  3074.52  261496667.0   sh\n",
       "2    2020-01-06  3070.91  3083.41  3107.20  3065.31  312575842.0   sh\n",
       "3    2020-01-07  3085.49  3104.80  3105.45  3084.33  276583111.0   sh\n",
       "4    2020-01-08  3094.24  3066.89  3094.24  3059.13  297872553.0   sh\n",
       "..          ...      ...      ...      ...      ...          ...  ...\n",
       "620  2022-07-26  3254.19  3277.44  3282.41  3246.04  259468676.0   sh\n",
       "621  2022-07-27  3271.78  3275.76  3282.57  3265.73  249131485.0   sh\n",
       "622  2022-07-28  3287.50  3282.58  3305.71  3277.11  288055056.0   sh\n",
       "623  2022-07-29  3282.81  3253.24  3294.80  3246.37  307331047.0   sh\n",
       "624  2022-08-01  3246.62  3259.96  3264.30  3225.55  292204805.0   sh\n",
       "\n",
       "[625 rows x 7 columns]"
      ]
     },
     "execution_count": 3,
     "metadata": {},
     "output_type": "execute_result"
    }
   ],
   "source": [
    "import tushare as ts\n",
    "raw_data = ts.get_k_data(code='sh', start='2010-01-01', end='2022-08-01')\n",
    "raw_data"
   ]
  },
  {
   "cell_type": "code",
   "execution_count": 13,
   "id": "2a1e0787-fcaf-47e0-a043-d1dd2bb4eab2",
   "metadata": {},
   "outputs": [
    {
     "data": {
      "text/plain": [
       "<AxesSubplot:>"
      ]
     },
     "execution_count": 13,
     "metadata": {},
     "output_type": "execute_result"
    },
    {
     "data": {
      "image/png": "[encoded data removed]",
      "text/plain": [
       "<Figure size 500x300 with 1 Axes>"
      ]
     },
     "metadata": {},
     "output_type": "display_data"
    }
   ],
   "source": [
    "raw_data['close'].plot(figsize=(5,3), legend=True, color='red', marker='*')"
   ]
  },
  {
   "cell_type": "markdown",
   "id": "99bf23c6-dc5a-4b6e-b65c-ddbdc3986c48",
   "metadata": {},
   "source": [
    "## 2.日收益率序列"
   ]
  },
  {
   "cell_type": "code",
   "execution_count": 17,
   "id": "653da687-8cbb-4030-82b2-e859cc45a4d3",
   "metadata": {},
   "outputs": [
    {
     "data": {
      "text/plain": [
       "0          NaN\n",
       "1      3085.20\n",
       "2      3083.79\n",
       "3      3083.41\n",
       "4      3104.80\n",
       "        ...   \n",
       "620    3250.39\n",
       "621    3277.44\n",
       "622    3275.76\n",
       "623    3282.58\n",
       "624    3253.24\n",
       "Name: close, Length: 625, dtype: float64"
      ]
     },
     "execution_count": 17,
     "metadata": {},
     "output_type": "execute_result"
    }
   ],
   "source": [
    "raw_data['close'].shift(1)"
   ]
  },
  {
   "cell_type": "code",
   "execution_count": 24,
   "id": "b934788c-55d5-47f8-bf46-89c3d7c153f3",
   "metadata": {},
   "outputs": [],
   "source": [
    "import pandas as pd\n",
    "data = pd.DataFrame()\n",
    "data['close'] = raw_data['close']"
   ]
  },
  {
   "cell_type": "code",
   "execution_count": 25,
   "id": "f5517411-d5b5-46d8-85f4-838334e28721",
   "metadata": {},
   "outputs": [],
   "source": [
    "# 日收益率\n",
    "data['yesterday_close'] = raw_data['close'].shift(1)\n",
    "data['daily_return'] = (data['close']-data['yesterday_close'])/data['yesterday_close']"
   ]
  },
  {
   "cell_type": "code",
   "execution_count": 28,
   "id": "c99ad53a-5d6c-4779-b6c7-fbb648128cb2",
   "metadata": {},
   "outputs": [],
   "source": [
    "# 周收益率\n",
    "data['lastweek_close'] = raw_data['close'].shift(5)\n",
    "data['week_return'] = (data['close']-data['lastweek_close'])/data['lastweek_close'] "
   ]
  },
  {
   "cell_type": "code",
   "execution_count": 33,
   "id": "c1f60a1d-04cc-442d-8ad8-c52ff69ff975",
   "metadata": {},
   "outputs": [],
   "source": [
    "# 月收益率\n"
   ]
  },
  {
   "cell_type": "code",
   "execution_count": 34,
   "id": "10be85ee-d56b-41e0-98c3-5f3a7f6aa839",
   "metadata": {},
   "outputs": [
    {
     "data": {
      "text/html": [
       "<div>\n",
       "<style scoped>\n",
       "    .dataframe tbody tr th:only-of-type {\n",
       "        vertical-align: middle;\n",
       "    }\n",
       "\n",
       "    .dataframe tbody tr th {\n",
       "        vertical-align: top;\n",
       "    }\n",
       "\n",
       "    .dataframe thead th {\n",
       "        text-align: right;\n",
       "    }\n",
       "</style>\n",
       "<table border=\"1\" class=\"dataframe\">\n",
       "  <thead>\n",
       "    <tr style=\"text-align: right;\">\n",
       "      <th></th>\n",
       "      <th>close</th>\n",
       "      <th>yesterday_close</th>\n",
       "      <th>daily_return</th>\n",
       "      <th>lastweek_close</th>\n",
       "      <th>week_return</th>\n",
       "    </tr>\n",
       "  </thead>\n",
       "  <tbody>\n",
       "    <tr>\n",
       "      <th>5</th>\n",
       "      <td>3094.88</td>\n",
       "      <td>3066.89</td>\n",
       "      <td>0.009127</td>\n",
       "      <td>3085.20</td>\n",
       "      <td>0.003138</td>\n",
       "    </tr>\n",
       "    <tr>\n",
       "      <th>6</th>\n",
       "      <td>3092.29</td>\n",
       "      <td>3094.88</td>\n",
       "      <td>-0.000837</td>\n",
       "      <td>3083.79</td>\n",
       "      <td>0.002756</td>\n",
       "    </tr>\n",
       "    <tr>\n",
       "      <th>7</th>\n",
       "      <td>3115.57</td>\n",
       "      <td>3092.29</td>\n",
       "      <td>0.007528</td>\n",
       "      <td>3083.41</td>\n",
       "      <td>0.010430</td>\n",
       "    </tr>\n",
       "    <tr>\n",
       "      <th>8</th>\n",
       "      <td>3106.82</td>\n",
       "      <td>3115.57</td>\n",
       "      <td>-0.002808</td>\n",
       "      <td>3104.80</td>\n",
       "      <td>0.000651</td>\n",
       "    </tr>\n",
       "    <tr>\n",
       "      <th>9</th>\n",
       "      <td>3090.04</td>\n",
       "      <td>3106.82</td>\n",
       "      <td>-0.005401</td>\n",
       "      <td>3066.89</td>\n",
       "      <td>0.007548</td>\n",
       "    </tr>\n",
       "    <tr>\n",
       "      <th>10</th>\n",
       "      <td>3074.08</td>\n",
       "      <td>3090.04</td>\n",
       "      <td>-0.005165</td>\n",
       "      <td>3094.88</td>\n",
       "      <td>-0.006721</td>\n",
       "    </tr>\n",
       "    <tr>\n",
       "      <th>11</th>\n",
       "      <td>3075.50</td>\n",
       "      <td>3074.08</td>\n",
       "      <td>0.000462</td>\n",
       "      <td>3092.29</td>\n",
       "      <td>-0.005430</td>\n",
       "    </tr>\n",
       "    <tr>\n",
       "      <th>12</th>\n",
       "      <td>3095.79</td>\n",
       "      <td>3075.50</td>\n",
       "      <td>0.006597</td>\n",
       "      <td>3115.57</td>\n",
       "      <td>-0.006349</td>\n",
       "    </tr>\n",
       "    <tr>\n",
       "      <th>13</th>\n",
       "      <td>3052.14</td>\n",
       "      <td>3095.79</td>\n",
       "      <td>-0.014100</td>\n",
       "      <td>3106.82</td>\n",
       "      <td>-0.017600</td>\n",
       "    </tr>\n",
       "    <tr>\n",
       "      <th>14</th>\n",
       "      <td>3060.75</td>\n",
       "      <td>3052.14</td>\n",
       "      <td>0.002821</td>\n",
       "      <td>3090.04</td>\n",
       "      <td>-0.009479</td>\n",
       "    </tr>\n",
       "  </tbody>\n",
       "</table>\n",
       "</div>"
      ],
      "text/plain": [
       "      close  yesterday_close  daily_return  lastweek_close  week_return\n",
       "5   3094.88          3066.89      0.009127         3085.20     0.003138\n",
       "6   3092.29          3094.88     -0.000837         3083.79     0.002756\n",
       "7   3115.57          3092.29      0.007528         3083.41     0.010430\n",
       "8   3106.82          3115.57     -0.002808         3104.80     0.000651\n",
       "9   3090.04          3106.82     -0.005401         3066.89     0.007548\n",
       "10  3074.08          3090.04     -0.005165         3094.88    -0.006721\n",
       "11  3075.50          3074.08      0.000462         3092.29    -0.005430\n",
       "12  3095.79          3075.50      0.006597         3115.57    -0.006349\n",
       "13  3052.14          3095.79     -0.014100         3106.82    -0.017600\n",
       "14  3060.75          3052.14      0.002821         3090.04    -0.009479"
      ]
     },
     "execution_count": 34,
     "metadata": {},
     "output_type": "execute_result"
    }
   ],
   "source": [
    "data=data.dropna()\n",
    "data.head(10)"
   ]
  },
  {
   "cell_type": "markdown",
   "id": "dfc7952b-26b8-4b20-8dff-86b5094edb56",
   "metadata": {},
   "source": [
    "下面对收盘价和收益率进行绘图"
   ]
  },
  {
   "cell_type": "code",
   "execution_count": 47,
   "id": "8f71081c-7bf9-4e24-b8b3-19d545d4efdc",
   "metadata": {},
   "outputs": [
    {
     "data": {
      "text/plain": [
       "<AxesSubplot:>"
      ]
     },
     "execution_count": 47,
     "metadata": {},
     "output_type": "execute_result"
    },
    {
     "data": {
      "image/png": "[encoded data removed]",
      "text/plain": [
       "<Figure size 1000x500 with 2 Axes>"
      ]
     },
     "metadata": {},
     "output_type": "display_data"
    }
   ],
   "source": [
    "import matplotlib.pyplot as plt\n",
    "fig, ax = plt.subplots(2,1)\n",
    "data[['close']].plot(figsize=(10,5), ax=ax[0])\n",
    "data[['week_return']].plot(figsize=(10,5), ax=ax[1], color='green')"
   ]
  },
  {
   "cell_type": "markdown",
   "id": "a3ae6572-28f1-44a5-945c-8c4ef3355f06",
   "metadata": {},
   "source": [
    "## 3. 平稳性检验"
   ]
  },
  {
   "cell_type": "code",
   "execution_count": null,
   "id": "e9e0ed9b-b4fc-4db6-80f0-080dfc957e3f",
   "metadata": {},
   "outputs": [],
   "source": []
  },
  {
   "cell_type": "markdown",
   "id": "3a576c8d-5919-4ae0-ae94-cd58168dfac0",
   "metadata": {},
   "source": [
    "结论：xxxxxxxxxxxxxxxx"
   ]
  },
  {
   "cell_type": "markdown",
   "id": "1d9b8352-a2e2-4776-9b6a-2502e9837cef",
   "metadata": {},
   "source": [
    "## 4 AR模型"
   ]
  },
  {
   "cell_type": "code",
   "execution_count": 46,
   "id": "7876f320-7520-437a-ad5d-ca604b2a923f",
   "metadata": {},
   "outputs": [
    {
     "name": "stderr",
     "output_type": "stream",
     "text": [
      "/Users/hans/opt/anaconda3/lib/python3.9/site-packages/statsmodels/tsa/base/tsa_model.py:471: ValueWarning: An unsupported index was provided and will be ignored when e.g. forecasting.\n",
      "  self._init_dates(dates, freq)\n",
      "/Users/hans/opt/anaconda3/lib/python3.9/site-packages/statsmodels/tsa/ar_model.py:1064: RuntimeWarning: invalid value encountered in reciprocal\n",
      "  return np.roots(lag_repr) ** -1\n"
     ]
    },
    {
     "data": {
      "text/html": [
       "<table class=\"simpletable\">\n",
       "<caption>AutoReg Model Results</caption>\n",
       "<tr>\n",
       "  <th>Dep. Variable:</th>    <td>week_return</td>   <th>  No. Observations:  </th>    <td>619</td>   \n",
       "</tr>\n",
       "<tr>\n",
       "  <th>Model:</th>            <td>AutoReg(1)</td>    <th>  Log Likelihood     </th> <td>1694.957</td> \n",
       "</tr>\n",
       "<tr>\n",
       "  <th>Method:</th>         <td>Conditional MLE</td> <th>  S.D. of innovations</th>   <td>0.016</td>  \n",
       "</tr>\n",
       "<tr>\n",
       "  <th>Date:</th>          <td>Wed, 23 Nov 2022</td> <th>  AIC                </th> <td>-3383.913</td>\n",
       "</tr>\n",
       "<tr>\n",
       "  <th>Time:</th>              <td>13:43:16</td>     <th>  BIC                </th> <td>-3370.634</td>\n",
       "</tr>\n",
       "<tr>\n",
       "  <th>Sample:</th>                <td>1</td>        <th>  HQIC               </th> <td>-3378.750</td>\n",
       "</tr>\n",
       "<tr>\n",
       "  <th></th>                      <td>619</td>       <th>                     </th>     <td> </td>    \n",
       "</tr>\n",
       "</table>\n",
       "<table class=\"simpletable\">\n",
       "<tr>\n",
       "         <td></td>           <th>coef</th>     <th>std err</th>      <th>z</th>      <th>P>|z|</th>  <th>[0.025</th>    <th>0.975]</th>  \n",
       "</tr>\n",
       "<tr>\n",
       "  <th>const</th>          <td>    0.0002</td> <td>    0.001</td> <td>    0.257</td> <td> 0.797</td> <td>   -0.001</td> <td>    0.001</td>\n",
       "</tr>\n",
       "<tr>\n",
       "  <th>week_return.L1</th> <td>    0.7975</td> <td>    0.024</td> <td>   32.861</td> <td> 0.000</td> <td>    0.750</td> <td>    0.845</td>\n",
       "</tr>\n",
       "</table>\n",
       "<table class=\"simpletable\">\n",
       "<caption>Roots</caption>\n",
       "<tr>\n",
       "    <td></td>   <th>            Real</th>  <th>         Imaginary</th> <th>         Modulus</th>  <th>        Frequency</th>\n",
       "</tr>\n",
       "<tr>\n",
       "  <th>AR.1</th> <td>           1.2539</td> <td>          +0.0000j</td> <td>           1.2539</td> <td>           0.0000</td>\n",
       "</tr>\n",
       "</table>"
      ],
      "text/plain": [
       "<class 'statsmodels.iolib.summary.Summary'>\n",
       "\"\"\"\n",
       "                            AutoReg Model Results                             \n",
       "==============================================================================\n",
       "Dep. Variable:            week_return   No. Observations:                  619\n",
       "Model:                     AutoReg(1)   Log Likelihood                1694.957\n",
       "Method:               Conditional MLE   S.D. of innovations              0.016\n",
       "Date:                Wed, 23 Nov 2022   AIC                          -3383.913\n",
       "Time:                        13:43:16   BIC                          -3370.634\n",
       "Sample:                             1   HQIC                         -3378.750\n",
       "                                  619                                         \n",
       "==================================================================================\n",
       "                     coef    std err          z      P>|z|      [0.025      0.975]\n",
       "----------------------------------------------------------------------------------\n",
       "const              0.0002      0.001      0.257      0.797      -0.001       0.001\n",
       "week_return.L1     0.7975      0.024     32.861      0.000       0.750       0.845\n",
       "                                    Roots                                    \n",
       "=============================================================================\n",
       "                  Real          Imaginary           Modulus         Frequency\n",
       "-----------------------------------------------------------------------------\n",
       "AR.1            1.2539           +0.0000j            1.2539            0.0000\n",
       "-----------------------------------------------------------------------------\n",
       "\"\"\""
      ]
     },
     "execution_count": 46,
     "metadata": {},
     "output_type": "execute_result"
    }
   ],
   "source": [
    "import statsmodels.tsa.ar_model as ar_model\n",
    "model = ar_model.AutoReg(data['week_return'], lags=1)\n",
    "result = model.fit()\n",
    "result.summary()"
   ]
  },
  {
   "cell_type": "markdown",
   "id": "f741de5a-2a5a-431b-8f17-d2ca44f45fd4",
   "metadata": {},
   "source": [
    "## 结论\n",
    "市场弱有效"
   ]
  },
  {
   "cell_type": "code",
   "execution_count": null,
   "id": "38e484d8-9163-4e5e-936d-d63eceddee27",
   "metadata": {},
   "outputs": [],
   "source": []
  }
 ],
 "metadata": {
  "kernelspec": {
   "display_name": "Python 3 (ipykernel)",
   "language": "python",
   "name": "python3"
  },
  "language_info": {
   "codemirror_mode": {
    "name": "ipython",
    "version": 3
   },
   "file_extension": ".py",
   "mimetype": "text/x-python",
   "name": "python",
   "nbconvert_exporter": "python",
   "pygments_lexer": "ipython3",
   "version": "3.9.13"
  }
 },
 "nbformat": 4,
 "nbformat_minor": 5
}
