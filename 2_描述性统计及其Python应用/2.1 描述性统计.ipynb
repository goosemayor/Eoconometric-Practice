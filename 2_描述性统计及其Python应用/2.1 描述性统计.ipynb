{
 "cells": [
  {
   "cell_type": "markdown",
   "metadata": {},
   "source": [
    "# 2.1 描述性统计"
   ]
  },
  {
   "cell_type": "markdown",
   "metadata": {
    "slideshow": {
     "slide_type": "slide"
    },
    "tags": []
   },
   "source": [
    "## A. 使用Pandas数据框自带的统计描述方法 "
   ]
  },
  {
   "cell_type": "markdown",
   "metadata": {},
   "source": [
    "首先，加载数据文件到内存里"
   ]
  },
  {
   "cell_type": "code",
   "execution_count": 3,
   "metadata": {},
   "outputs": [
    {
     "data": {
      "text/html": [
       "<div>\n",
       "<style scoped>\n",
       "    .dataframe tbody tr th:only-of-type {\n",
       "        vertical-align: middle;\n",
       "    }\n",
       "\n",
       "    .dataframe tbody tr th {\n",
       "        vertical-align: top;\n",
       "    }\n",
       "\n",
       "    .dataframe thead th {\n",
       "        text-align: right;\n",
       "    }\n",
       "</style>\n",
       "<table border=\"1\" class=\"dataframe\">\n",
       "  <thead>\n",
       "    <tr style=\"text-align: right;\">\n",
       "      <th></th>\n",
       "      <th>High</th>\n",
       "      <th>Low</th>\n",
       "      <th>Open</th>\n",
       "      <th>Close</th>\n",
       "      <th>Volume</th>\n",
       "      <th>Adj Close</th>\n",
       "    </tr>\n",
       "    <tr>\n",
       "      <th>Date</th>\n",
       "      <th></th>\n",
       "      <th></th>\n",
       "      <th></th>\n",
       "      <th></th>\n",
       "      <th></th>\n",
       "      <th></th>\n",
       "    </tr>\n",
       "  </thead>\n",
       "  <tbody>\n",
       "    <tr>\n",
       "      <th>2017-01-03</th>\n",
       "      <td>12.60</td>\n",
       "      <td>12.13</td>\n",
       "      <td>12.20</td>\n",
       "      <td>12.59</td>\n",
       "      <td>40510800.0</td>\n",
       "      <td>10.255996</td>\n",
       "    </tr>\n",
       "    <tr>\n",
       "      <th>2017-01-04</th>\n",
       "      <td>13.27</td>\n",
       "      <td>12.74</td>\n",
       "      <td>12.77</td>\n",
       "      <td>13.17</td>\n",
       "      <td>77638100.0</td>\n",
       "      <td>10.728471</td>\n",
       "    </tr>\n",
       "    <tr>\n",
       "      <th>2017-01-05</th>\n",
       "      <td>13.22</td>\n",
       "      <td>12.63</td>\n",
       "      <td>13.21</td>\n",
       "      <td>12.77</td>\n",
       "      <td>75628400.0</td>\n",
       "      <td>10.402627</td>\n",
       "    </tr>\n",
       "    <tr>\n",
       "      <th>2017-01-06</th>\n",
       "      <td>12.84</td>\n",
       "      <td>12.64</td>\n",
       "      <td>12.80</td>\n",
       "      <td>12.76</td>\n",
       "      <td>40315900.0</td>\n",
       "      <td>10.394479</td>\n",
       "    </tr>\n",
       "    <tr>\n",
       "      <th>2017-01-09</th>\n",
       "      <td>12.86</td>\n",
       "      <td>12.63</td>\n",
       "      <td>12.79</td>\n",
       "      <td>12.63</td>\n",
       "      <td>39438400.0</td>\n",
       "      <td>10.288579</td>\n",
       "    </tr>\n",
       "    <tr>\n",
       "      <th>...</th>\n",
       "      <td>...</td>\n",
       "      <td>...</td>\n",
       "      <td>...</td>\n",
       "      <td>...</td>\n",
       "      <td>...</td>\n",
       "      <td>...</td>\n",
       "    </tr>\n",
       "    <tr>\n",
       "      <th>2021-09-20</th>\n",
       "      <td>13.19</td>\n",
       "      <td>12.63</td>\n",
       "      <td>13.07</td>\n",
       "      <td>12.82</td>\n",
       "      <td>126152200.0</td>\n",
       "      <td>12.820000</td>\n",
       "    </tr>\n",
       "    <tr>\n",
       "      <th>2021-09-21</th>\n",
       "      <td>12.97</td>\n",
       "      <td>12.66</td>\n",
       "      <td>12.89</td>\n",
       "      <td>12.77</td>\n",
       "      <td>60473100.0</td>\n",
       "      <td>12.770000</td>\n",
       "    </tr>\n",
       "    <tr>\n",
       "      <th>2021-09-22</th>\n",
       "      <td>13.39</td>\n",
       "      <td>12.91</td>\n",
       "      <td>12.92</td>\n",
       "      <td>13.23</td>\n",
       "      <td>75784000.0</td>\n",
       "      <td>13.230000</td>\n",
       "    </tr>\n",
       "    <tr>\n",
       "      <th>2021-09-23</th>\n",
       "      <td>13.74</td>\n",
       "      <td>13.32</td>\n",
       "      <td>13.35</td>\n",
       "      <td>13.71</td>\n",
       "      <td>68708100.0</td>\n",
       "      <td>13.710000</td>\n",
       "    </tr>\n",
       "    <tr>\n",
       "      <th>2021-09-24</th>\n",
       "      <td>13.94</td>\n",
       "      <td>13.64</td>\n",
       "      <td>13.66</td>\n",
       "      <td>13.78</td>\n",
       "      <td>57440200.0</td>\n",
       "      <td>13.780000</td>\n",
       "    </tr>\n",
       "  </tbody>\n",
       "</table>\n",
       "<p>1191 rows × 6 columns</p>\n",
       "</div>"
      ],
      "text/plain": [
       "             High    Low   Open  Close       Volume  Adj Close\n",
       "Date                                                          \n",
       "2017-01-03  12.60  12.13  12.20  12.59   40510800.0  10.255996\n",
       "2017-01-04  13.27  12.74  12.77  13.17   77638100.0  10.728471\n",
       "2017-01-05  13.22  12.63  13.21  12.77   75628400.0  10.402627\n",
       "2017-01-06  12.84  12.64  12.80  12.76   40315900.0  10.394479\n",
       "2017-01-09  12.86  12.63  12.79  12.63   39438400.0  10.288579\n",
       "...           ...    ...    ...    ...          ...        ...\n",
       "2021-09-20  13.19  12.63  13.07  12.82  126152200.0  12.820000\n",
       "2021-09-21  12.97  12.66  12.89  12.77   60473100.0  12.770000\n",
       "2021-09-22  13.39  12.91  12.92  13.23   75784000.0  13.230000\n",
       "2021-09-23  13.74  13.32  13.35  13.71   68708100.0  13.710000\n",
       "2021-09-24  13.94  13.64  13.66  13.78   57440200.0  13.780000\n",
       "\n",
       "[1191 rows x 6 columns]"
      ]
     },
     "execution_count": 3,
     "metadata": {},
     "output_type": "execute_result"
    }
   ],
   "source": [
    "import pandas\n",
    "pandas.read_csv(\"datasets/Facebook.csv\", index_col=0)"
   ]
  },
  {
   "cell_type": "markdown",
   "metadata": {},
   "source": [
    "它返回的是一个pandas.DataFrame的对象，我们称之为“数据框”类型。"
   ]
  },
  {
   "cell_type": "markdown",
   "metadata": {},
   "source": [
    "我们把它赋给变量名为df的变量。"
   ]
  },
  {
   "cell_type": "code",
   "execution_count": 2,
   "metadata": {},
   "outputs": [],
   "source": [
    "df = pandas.read_csv(\"datasets/Facebook_stockprice.csv\", index_col=0)"
   ]
  },
  {
   "cell_type": "markdown",
   "metadata": {},
   "source": [
    "如果只是想查看头和尾巴，可以使用`dataframe.head()`或者`dataframe.tail()`这两个方法。"
   ]
  },
  {
   "cell_type": "code",
   "execution_count": 4,
   "metadata": {},
   "outputs": [
    {
     "data": {
      "text/html": [
       "<div>\n",
       "<style scoped>\n",
       "    .dataframe tbody tr th:only-of-type {\n",
       "        vertical-align: middle;\n",
       "    }\n",
       "\n",
       "    .dataframe tbody tr th {\n",
       "        vertical-align: top;\n",
       "    }\n",
       "\n",
       "    .dataframe thead th {\n",
       "        text-align: right;\n",
       "    }\n",
       "</style>\n",
       "<table border=\"1\" class=\"dataframe\">\n",
       "  <thead>\n",
       "    <tr style=\"text-align: right;\">\n",
       "      <th></th>\n",
       "      <th>High</th>\n",
       "      <th>Low</th>\n",
       "      <th>Open</th>\n",
       "      <th>Close</th>\n",
       "      <th>Volume</th>\n",
       "      <th>Adj Close</th>\n",
       "    </tr>\n",
       "  </thead>\n",
       "  <tbody>\n",
       "    <tr>\n",
       "      <th>count</th>\n",
       "      <td>1191.000000</td>\n",
       "      <td>1191.000000</td>\n",
       "      <td>1191.000000</td>\n",
       "      <td>1191.000000</td>\n",
       "      <td>1.191000e+03</td>\n",
       "      <td>1191.000000</td>\n",
       "    </tr>\n",
       "    <tr>\n",
       "      <th>mean</th>\n",
       "      <td>10.225558</td>\n",
       "      <td>9.985802</td>\n",
       "      <td>10.113468</td>\n",
       "      <td>10.102712</td>\n",
       "      <td>5.308135e+07</td>\n",
       "      <td>9.394648</td>\n",
       "    </tr>\n",
       "    <tr>\n",
       "      <th>std</th>\n",
       "      <td>2.269341</td>\n",
       "      <td>2.251395</td>\n",
       "      <td>2.261142</td>\n",
       "      <td>2.262616</td>\n",
       "      <td>2.983678e+07</td>\n",
       "      <td>2.043040</td>\n",
       "    </tr>\n",
       "    <tr>\n",
       "      <th>min</th>\n",
       "      <td>4.420000</td>\n",
       "      <td>3.960000</td>\n",
       "      <td>4.270000</td>\n",
       "      <td>4.010000</td>\n",
       "      <td>9.549600e+06</td>\n",
       "      <td>4.010000</td>\n",
       "    </tr>\n",
       "    <tr>\n",
       "      <th>25%</th>\n",
       "      <td>8.895000</td>\n",
       "      <td>8.715000</td>\n",
       "      <td>8.810000</td>\n",
       "      <td>8.800000</td>\n",
       "      <td>3.319940e+07</td>\n",
       "      <td>8.369491</td>\n",
       "    </tr>\n",
       "    <tr>\n",
       "      <th>50%</th>\n",
       "      <td>10.260000</td>\n",
       "      <td>10.070000</td>\n",
       "      <td>10.170000</td>\n",
       "      <td>10.190000</td>\n",
       "      <td>4.456190e+07</td>\n",
       "      <td>9.287052</td>\n",
       "    </tr>\n",
       "    <tr>\n",
       "      <th>75%</th>\n",
       "      <td>11.830000</td>\n",
       "      <td>11.620000</td>\n",
       "      <td>11.715000</td>\n",
       "      <td>11.715000</td>\n",
       "      <td>6.391495e+07</td>\n",
       "      <td>10.318997</td>\n",
       "    </tr>\n",
       "    <tr>\n",
       "      <th>max</th>\n",
       "      <td>16.450001</td>\n",
       "      <td>15.800000</td>\n",
       "      <td>16.330000</td>\n",
       "      <td>15.990000</td>\n",
       "      <td>2.823941e+08</td>\n",
       "      <td>15.990000</td>\n",
       "    </tr>\n",
       "  </tbody>\n",
       "</table>\n",
       "</div>"
      ],
      "text/plain": [
       "              High          Low         Open        Close        Volume  \\\n",
       "count  1191.000000  1191.000000  1191.000000  1191.000000  1.191000e+03   \n",
       "mean     10.225558     9.985802    10.113468    10.102712  5.308135e+07   \n",
       "std       2.269341     2.251395     2.261142     2.262616  2.983678e+07   \n",
       "min       4.420000     3.960000     4.270000     4.010000  9.549600e+06   \n",
       "25%       8.895000     8.715000     8.810000     8.800000  3.319940e+07   \n",
       "50%      10.260000    10.070000    10.170000    10.190000  4.456190e+07   \n",
       "75%      11.830000    11.620000    11.715000    11.715000  6.391495e+07   \n",
       "max      16.450001    15.800000    16.330000    15.990000  2.823941e+08   \n",
       "\n",
       "         Adj Close  \n",
       "count  1191.000000  \n",
       "mean      9.394648  \n",
       "std       2.043040  \n",
       "min       4.010000  \n",
       "25%       8.369491  \n",
       "50%       9.287052  \n",
       "75%      10.318997  \n",
       "max      15.990000  "
      ]
     },
     "execution_count": 4,
     "metadata": {},
     "output_type": "execute_result"
    }
   ],
   "source": [
    "df.describe()"
   ]
  },
  {
   "cell_type": "markdown",
   "metadata": {},
   "source": [
    "它会返回我们的数据集的一些**基础描述性统计信息**。"
   ]
  },
  {
   "cell_type": "markdown",
   "metadata": {},
   "source": [
    "这些会按照每一列的数据进行统计，结果包括：\n",
    "- count : 个数\n",
    "- mean : 均值\n",
    "- std : 标准差\n",
    "- min : 最小值\n",
    "- 25% : 分位数为25%的数值\n",
    "- 50% : 分位数为50%的数值\n",
    "- 75% : 分位数为75%的数值\n",
    "- max : 最大值"
   ]
  },
  {
   "cell_type": "markdown",
   "metadata": {},
   "source": [
    "### 折线图"
   ]
  },
  {
   "cell_type": "markdown",
   "metadata": {},
   "source": [
    "我们可以通过绘制折线图来了解数据框中的单个属性来观察其数据趋势："
   ]
  },
  {
   "cell_type": "code",
   "execution_count": 8,
   "metadata": {},
   "outputs": [
    {
     "data": {
      "text/plain": [
       "<AxesSubplot:xlabel='Date'>"
      ]
     },
     "execution_count": 8,
     "metadata": {},
     "output_type": "execute_result"
    },
    {
     "data": {
      "image/png": "[encoded data removed]",
      "text/plain": [
       "<Figure size 720x288 with 1 Axes>"
      ]
     },
     "metadata": {
      "needs_background": "light"
     },
     "output_type": "display_data"
    }
   ],
   "source": [
    "df['High'].plot(figsize=(10, 4))"
   ]
  },
  {
   "cell_type": "markdown",
   "metadata": {},
   "source": [
    "### 频数图"
   ]
  },
  {
   "cell_type": "markdown",
   "metadata": {},
   "source": [
    "或者通过绘制频数分布图（条状图）来了解数据的一个分布情况："
   ]
  },
  {
   "cell_type": "code",
   "execution_count": 12,
   "metadata": {},
   "outputs": [
    {
     "data": {
      "text/plain": [
       "<AxesSubplot:>"
      ]
     },
     "execution_count": 12,
     "metadata": {},
     "output_type": "execute_result"
    },
    {
     "data": {
      "image/png": "[encoded data removed]",
      "text/plain": [
       "<Figure size 720x288 with 1 Axes>"
      ]
     },
     "metadata": {
      "needs_background": "light"
     },
     "output_type": "display_data"
    }
   ],
   "source": [
    "df['High'].hist(bins=50, figsize=(10, 4))"
   ]
  },
  {
   "cell_type": "markdown",
   "metadata": {},
   "source": [
    "## B. 常用的描述性统计方法"
   ]
  },
  {
   "cell_type": "markdown",
   "metadata": {},
   "source": [
    "Pandas常用统计方法\n",
    "\n",
    "\n",
    "| 函数名称 | 作用 |  \n",
    "| ---- | -------- | \n",
    "| count   | 非NA值的数量          |          \n",
    "| min    |   最小值       |          \n",
    "| max    |  最大值        |          \n",
    "|mean |均值 |\n",
    "| median| 中位数|\n",
    "|var |方差 |\n",
    "| std|标准差 |\n",
    "| skew| 偏度|\n",
    "| kurt| 峰度 |\n",
    "\n",
    "\n"
   ]
  },
  {
   "cell_type": "markdown",
   "metadata": {},
   "source": [
    "Numpy常用统计方法\n",
    "\n",
    "| 函数名称 | 作用 |  \n",
    "| ---- | -------- |       \n",
    "| min    |   最小值       |          \n",
    "| max    |  最大值        |          \n",
    "|mean |均值 |\n",
    "| median| 中位数|\n",
    "|var |方差 |\n",
    "| std|标准差 |\n",
    "|cov | 协方差|\n",
    "| corrcoef | 相关系数 |\n"
   ]
  },
  {
   "cell_type": "markdown",
   "metadata": {},
   "source": [
    "### 算术平均值"
   ]
  },
  {
   "cell_type": "markdown",
   "metadata": {},
   "source": [
    "算术平均值用来描述一组数据，即“平均值”。它被定义为\n",
    "\n",
    "$$\n",
    "\\mu =  \\frac{\\sum_{i=1}^{n}{x_i}}{n}\n",
    "$$\n",
    "\n",
    "这里$x_1$,...$x_n$是我们的观测值\n"
   ]
  },
  {
   "cell_type": "code",
   "execution_count": 5,
   "metadata": {},
   "outputs": [],
   "source": [
    "import scipy.stats as stats\n",
    "import numpy as np"
   ]
  },
  {
   "cell_type": "code",
   "execution_count": 6,
   "metadata": {},
   "outputs": [],
   "source": [
    "x1 = [1, 2, 2, 3, 4, 5, 5, 7]"
   ]
  },
  {
   "cell_type": "code",
   "execution_count": 7,
   "metadata": {},
   "outputs": [
    {
     "data": {
      "text/plain": [
       "[1, 2, 2, 3, 4, 5, 5, 7, 10]"
      ]
     },
     "execution_count": 7,
     "metadata": {},
     "output_type": "execute_result"
    }
   ],
   "source": [
    "x2 = x1 + [10]\n",
    "x2"
   ]
  },
  {
   "cell_type": "code",
   "execution_count": 8,
   "metadata": {},
   "outputs": [
    {
     "name": "stdout",
     "output_type": "stream",
     "text": [
      "x1的平均值: 3.625\n",
      "x2的平均值: 4.333333333333333\n"
     ]
    }
   ],
   "source": [
    "print('x1的平均值:', np.mean(x1))\n",
    "print('x2的平均值:', np.mean(x2))"
   ]
  },
  {
   "cell_type": "markdown",
   "metadata": {},
   "source": [
    "### 中位数\n",
    "顾名思义，一组数据的中位数是当以递减或递增顺序排列时出现在数据中间位置的数字。\n",
    "\n",
    "数据中位数不容易受极端值的影响。"
   ]
  },
  {
   "cell_type": "code",
   "execution_count": 9,
   "metadata": {},
   "outputs": [
    {
     "name": "stdout",
     "output_type": "stream",
     "text": [
      "x1的中位数： 3.5\n",
      "x2的中位数： 4.0\n"
     ]
    }
   ],
   "source": [
    "print('x1的中位数：', np.median(x1))\n",
    "print('x2的中位数：', np.median(x2))"
   ]
  },
  {
   "cell_type": "markdown",
   "metadata": {},
   "source": [
    "### Range(范围)"
   ]
  },
  {
   "cell_type": "markdown",
   "metadata": {},
   "source": [
    "Rang(范围)是数据集中最大值和最小值之间的差异。毫不奇怪，它对异常值非常敏感。我们使用Numpy的ptp的函数来计算Range\n"
   ]
  },
  {
   "cell_type": "code",
   "execution_count": 10,
   "metadata": {},
   "outputs": [
    {
     "name": "stdout",
     "output_type": "stream",
     "text": [
      "Range of X: 6\n"
     ]
    }
   ],
   "source": [
    "print(\"Range of X: %s\" %(np.ptp(x1)))"
   ]
  },
  {
   "cell_type": "markdown",
   "metadata": {},
   "source": [
    "### MAD（平均绝对偏差）\n",
    "\n",
    "平均绝对偏差是数据点距离算术平均值的偏差我们使用偏差的绝对值，这使得比平均值大5的数据点和比平均值小5的数据点对MAD均贡献5，否则偏差总和为0\n",
    "\n"
   ]
  },
  {
   "cell_type": "markdown",
   "metadata": {},
   "source": [
    "$$\n",
    "MAC = \\frac{\\sum_{i=1}\\lvert{X_i-\\mu} \\rvert}{n}\n",
    "$$"
   ]
  },
  {
   "cell_type": "markdown",
   "metadata": {},
   "source": [
    "这里n是数据点的个数，μ是其平均值。"
   ]
  },
  {
   "cell_type": "code",
   "execution_count": 11,
   "metadata": {},
   "outputs": [
    {
     "name": "stdout",
     "output_type": "stream",
     "text": [
      "x的平均绝对偏差： 1.625\n"
     ]
    }
   ],
   "source": [
    "mu = np.mean(x1)\n",
    "abs_dispersion = [np.abs(mu-x) for x in x1]\n",
    "mad =np.sum(abs_dispersion)/len(abs_dispersion) \n",
    "print(\"x的平均绝对偏差：\", mad)"
   ]
  },
  {
   "cell_type": "markdown",
   "metadata": {},
   "source": [
    "### 方差和标准差"
   ]
  },
  {
   "cell_type": "markdown",
   "metadata": {},
   "source": [
    "数据离散程度的度量最常用的指标就是方差和标准差。在金融市场更是如此，诺贝尔经济学奖得主马科维茨创造性地将投资的风险定义为收益率的方差，因此为现代金融工程的大厦做了坚实奠基。量化投资更是更是如此，对于风险的度量大多时候是通过方差、标准差来完成。\n"
   ]
  },
  {
   "cell_type": "markdown",
   "metadata": {},
   "source": [
    "$$\n",
    "\\sigma^2 = \\frac{\\sum_{i=1}({X_i-\\mu})^2}{n}\n",
    "$$"
   ]
  },
  {
   "cell_type": "code",
   "execution_count": 12,
   "metadata": {},
   "outputs": [
    {
     "name": "stdout",
     "output_type": "stream",
     "text": [
      "X的方差 3.484375\n",
      "X的标准差 1.8666480653835098\n"
     ]
    }
   ],
   "source": [
    "print(\"X的方差\", np.var(x1))\n",
    "print(\"X的标准差\", np.std(x1))"
   ]
  }
 ],
 "metadata": {
  "kernelspec": {
   "display_name": "Python 3 (ipykernel)",
   "language": "python",
   "name": "python3"
  },
  "language_info": {
   "codemirror_mode": {
    "name": "ipython",
    "version": 3
   },
   "file_extension": ".py",
   "mimetype": "text/x-python",
   "name": "python",
   "nbconvert_exporter": "python",
   "pygments_lexer": "ipython3",
   "version": "3.9.13"
  },
  "widgets": {
   "application/vnd.jupyter.widget-state+json": {
    "state": {},
    "version_major": 2,
    "version_minor": 0
   }
  }
 },
 "nbformat": 4,
 "nbformat_minor": 4
}
