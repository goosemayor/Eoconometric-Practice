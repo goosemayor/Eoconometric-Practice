{
 "cells": [
  {
   "cell_type": "markdown",
   "metadata": {},
   "source": [
    "# 2.3 异常数据处理"
   ]
  },
  {
   "cell_type": "markdown",
   "metadata": {},
   "source": [
    "异常值问题在数据分析中经常遇到，本节介绍了多种处理数据异常值的方法。\n",
    "\n",
    "在金融数据分析中，常常会遇到一些值过大或者过小的情况，当用这些值来构造其他特征的时候，可能使得其他的特征也是异常点，这将严重影响对金融数据的分析，或者是影响模型的训练，下面我们学习一些关于异常点处理的常用方法。"
   ]
  },
  {
   "cell_type": "markdown",
   "metadata": {},
   "source": [
    "## A. 固定比例法\n",
    "\n",
    "这种方法非常容易理解，我们把上下2%的值重新设置，若大于99%分位数的数值，则将其设置为99%分位数值，若低于1%分位数的数值，则将其重新设置为1%分位数值\n",
    "\n"
   ]
  },
  {
   "cell_type": "code",
   "execution_count": 1,
   "metadata": {},
   "outputs": [
    {
     "data": {
      "text/html": [
       "<div>\n",
       "<style scoped>\n",
       "    .dataframe tbody tr th:only-of-type {\n",
       "        vertical-align: middle;\n",
       "    }\n",
       "\n",
       "    .dataframe tbody tr th {\n",
       "        vertical-align: top;\n",
       "    }\n",
       "\n",
       "    .dataframe thead th {\n",
       "        text-align: right;\n",
       "    }\n",
       "</style>\n",
       "<table border=\"1\" class=\"dataframe\">\n",
       "  <thead>\n",
       "    <tr style=\"text-align: right;\">\n",
       "      <th></th>\n",
       "      <th>High</th>\n",
       "      <th>Low</th>\n",
       "      <th>Open</th>\n",
       "      <th>Close</th>\n",
       "      <th>Volume</th>\n",
       "      <th>Adj Close</th>\n",
       "    </tr>\n",
       "    <tr>\n",
       "      <th>Date</th>\n",
       "      <th></th>\n",
       "      <th></th>\n",
       "      <th></th>\n",
       "      <th></th>\n",
       "      <th></th>\n",
       "      <th></th>\n",
       "    </tr>\n",
       "  </thead>\n",
       "  <tbody>\n",
       "    <tr>\n",
       "      <th>2017-01-03</th>\n",
       "      <td>12.60</td>\n",
       "      <td>12.13</td>\n",
       "      <td>12.20</td>\n",
       "      <td>12.59</td>\n",
       "      <td>40510800.0</td>\n",
       "      <td>10.255996</td>\n",
       "    </tr>\n",
       "    <tr>\n",
       "      <th>2017-01-04</th>\n",
       "      <td>13.27</td>\n",
       "      <td>12.74</td>\n",
       "      <td>12.77</td>\n",
       "      <td>13.17</td>\n",
       "      <td>77638100.0</td>\n",
       "      <td>10.728471</td>\n",
       "    </tr>\n",
       "    <tr>\n",
       "      <th>2017-01-05</th>\n",
       "      <td>13.22</td>\n",
       "      <td>12.63</td>\n",
       "      <td>13.21</td>\n",
       "      <td>12.77</td>\n",
       "      <td>75628400.0</td>\n",
       "      <td>10.402627</td>\n",
       "    </tr>\n",
       "    <tr>\n",
       "      <th>2017-01-06</th>\n",
       "      <td>12.84</td>\n",
       "      <td>12.64</td>\n",
       "      <td>12.80</td>\n",
       "      <td>12.76</td>\n",
       "      <td>40315900.0</td>\n",
       "      <td>10.394479</td>\n",
       "    </tr>\n",
       "    <tr>\n",
       "      <th>2017-01-09</th>\n",
       "      <td>12.86</td>\n",
       "      <td>12.63</td>\n",
       "      <td>12.79</td>\n",
       "      <td>12.63</td>\n",
       "      <td>39438400.0</td>\n",
       "      <td>10.288579</td>\n",
       "    </tr>\n",
       "  </tbody>\n",
       "</table>\n",
       "</div>"
      ],
      "text/plain": [
       "             High    Low   Open  Close      Volume  Adj Close\n",
       "Date                                                         \n",
       "2017-01-03  12.60  12.13  12.20  12.59  40510800.0  10.255996\n",
       "2017-01-04  13.27  12.74  12.77  13.17  77638100.0  10.728471\n",
       "2017-01-05  13.22  12.63  13.21  12.77  75628400.0  10.402627\n",
       "2017-01-06  12.84  12.64  12.80  12.76  40315900.0  10.394479\n",
       "2017-01-09  12.86  12.63  12.79  12.63  39438400.0  10.288579"
      ]
     },
     "execution_count": 1,
     "metadata": {},
     "output_type": "execute_result"
    }
   ],
   "source": [
    "import pandas\n",
    "df= pandas.read_csv(\"datasets/Facebook.csv\", index_col=0)\n",
    "df.head()"
   ]
  },
  {
   "cell_type": "code",
   "execution_count": 2,
   "metadata": {},
   "outputs": [
    {
     "data": {
      "text/plain": [
       "<AxesSubplot:>"
      ]
     },
     "execution_count": 2,
     "metadata": {},
     "output_type": "execute_result"
    },
    {
     "data": {
      "image/png": "[encoded data removed]",
      "text/plain": [
       "<Figure size 432x288 with 1 Axes>"
      ]
     },
     "metadata": {
      "needs_background": "light"
     },
     "output_type": "display_data"
    }
   ],
   "source": [
    "df['Volume'].hist(bins=100)"
   ]
  },
  {
   "cell_type": "code",
   "execution_count": 3,
   "metadata": {},
   "outputs": [
    {
     "name": "stdout",
     "output_type": "stream",
     "text": [
      "均值 52533770.73047859\n",
      "标准差 26834906.704301823\n"
     ]
    },
    {
     "data": {
      "text/plain": [
       "<AxesSubplot:>"
      ]
     },
     "execution_count": 3,
     "metadata": {},
     "output_type": "execute_result"
    },
    {
     "data": {
      "image/png": "[encoded data removed]",
      "text/plain": [
       "<Figure size 432x288 with 1 Axes>"
      ]
     },
     "metadata": {
      "needs_background": "light"
     },
     "output_type": "display_data"
    }
   ],
   "source": [
    "vol = df['Volume'].copy()\n",
    "vol[vol>=vol.quantile(0.99)] = vol.quantile(0.99)\n",
    "vol[vol<=vol.quantile(0.01)] = vol.quantile(0.01)\n",
    "print(\"均值\", vol.mean())\n",
    "print(\"标准差\", vol.std())\n",
    "vol.hist(bins=100)"
   ]
  },
  {
   "cell_type": "markdown",
   "metadata": {},
   "source": [
    "## B. 均值标准差法\n",
    "\n",
    "这种想法的思路来自正态分布，通常把3倍标准差之外的值都视为异常值，不过要注意的是样本均值和样本标准差都不是稳健统计量，其计算本身受极值的影响就非常大，所以可能会出现一种情况，那就是我们从数据分布图上能非常明显地看到异常点，按照上面的计算方法，这个异常点可能仍在均值3倍标准差的范围内。因此按照这种方法剔除掉异常值后，需要重新观察数据的分布情况，看是否仍然存在显著异常点，若存在则继续重复上述步骤寻找异常点\n"
   ]
  },
  {
   "cell_type": "code",
   "execution_count": 4,
   "metadata": {},
   "outputs": [
    {
     "name": "stdout",
     "output_type": "stream",
     "text": [
      "均值 52369794.43133675\n",
      "标准差 26441619.817123003\n"
     ]
    },
    {
     "data": {
      "text/plain": [
       "<AxesSubplot:>"
      ]
     },
     "execution_count": 4,
     "metadata": {},
     "output_type": "execute_result"
    },
    {
     "data": {
      "image/png": "[encoded data removed]",
      "text/plain": [
       "<Figure size 432x288 with 1 Axes>"
      ]
     },
     "metadata": {
      "needs_background": "light"
     },
     "output_type": "display_data"
    }
   ],
   "source": [
    "vol = df['Volume'].copy()\n",
    "vol[vol >= vol.mean() + 3*vol.std()] = vol.mean() + 3*vol.std()\n",
    "vol[vol <= vol.mean() - 3*vol.std()] = vol.mean() - 3*vol.std()\n",
    "print(\"均值\", vol.mean())\n",
    "print(\"标准差\", vol.std())\n",
    "vol.hist(bins=100)"
   ]
  },
  {
   "cell_type": "markdown",
   "metadata": {},
   "source": [
    "## C. MAD法\n",
    "\n",
    "MAD法是针对均值标准差方法的改进，把均值和标准差替换成稳健统计量，样本均值用样本中位数代替，样本标准差用样本MAD（ median absolute deviation）代替：\n",
    "\n",
    "$$\n",
    "md=median(x_i, i=1, 2,..,n)\n",
    "$$\n",
    "\n",
    "$$\n",
    "MAD=median(\\lvert x_i-md \\rvert,i=1,2,…,n)\n",
    "$$\n"
   ]
  },
  {
   "cell_type": "markdown",
   "metadata": {},
   "source": [
    "一般将偏离中位数3倍以上的数据作为异常值，和均值标准差法相比，其中位数和MAD不受异常值的影响。\n",
    "\n"
   ]
  },
  {
   "cell_type": "code",
   "execution_count": 5,
   "metadata": {},
   "outputs": [
    {
     "name": "stdout",
     "output_type": "stream",
     "text": [
      "均值 46474000.91575091\n",
      "标准差 17950707.881291687\n"
     ]
    },
    {
     "data": {
      "text/plain": [
       "<AxesSubplot:>"
      ]
     },
     "execution_count": 5,
     "metadata": {},
     "output_type": "execute_result"
    },
    {
     "data": {
      "image/png": "[encoded data removed]",
      "text/plain": [
       "<Figure size 432x288 with 1 Axes>"
      ]
     },
     "metadata": {
      "needs_background": "light"
     },
     "output_type": "display_data"
    }
   ],
   "source": [
    "import numpy as np\n",
    "vol = df['Volume'].copy()\n",
    "vol = vol.dropna()\n",
    "median = np.median(list(vol))\n",
    "MAD = np.mean(abs(vol) - median)\n",
    "vol = vol[abs(vol-median)/MAD<=6] #剔除偏离中位数6倍以上的数据\n",
    "print(\"均值\", vol.mean())\n",
    "print(\"标准差\", vol.std())\n",
    "vol.hist(bins=100)"
   ]
  },
  {
   "cell_type": "markdown",
   "metadata": {},
   "source": [
    "## D. BOXPLOT法\n",
    "箱形图如下："
   ]
  },
  {
   "cell_type": "markdown",
   "metadata": {},
   "source": [
    "![boxplot](image/boxplot.png)"
   ]
  },
  {
   "cell_type": "markdown",
   "metadata": {},
   "source": [
    "异常值被定义为小于QL-1.5IQR或大于QU+1.5IQR的值：\n",
    "- QL称为下四分位数\n",
    "- QU称为上四分位数\n",
    "- IQR称为四分位区间，也即是上四分位数和下四分位数之差。\n",
    "- 上限：QU+1.5IQR\n",
    "- 下限：QL-1.5IQR"
   ]
  },
  {
   "cell_type": "code",
   "execution_count": 11,
   "metadata": {},
   "outputs": [
    {
     "data": {
      "text/plain": [
       "<AxesSubplot:>"
      ]
     },
     "execution_count": 11,
     "metadata": {},
     "output_type": "execute_result"
    },
    {
     "data": {
      "image/png": "[encoded data removed]",
      "text/plain": [
       "<Figure size 432x288 with 1 Axes>"
      ]
     },
     "metadata": {
      "needs_background": "light"
     },
     "output_type": "display_data"
    }
   ],
   "source": [
    "import pandas as pd\n",
    "vol = pd.DataFrame(df['Volume'])\n",
    "vol.boxplot(grid=False)"
   ]
  },
  {
   "cell_type": "code",
   "execution_count": 12,
   "metadata": {},
   "outputs": [
    {
     "data": {
      "text/plain": [
       "<AxesSubplot:>"
      ]
     },
     "execution_count": 12,
     "metadata": {},
     "output_type": "execute_result"
    },
    {
     "data": {
      "image/png": "[encoded data removed]",
      "text/plain": [
       "<Figure size 432x288 with 1 Axes>"
      ]
     },
     "metadata": {
      "needs_background": "light"
     },
     "output_type": "display_data"
    }
   ],
   "source": [
    "QU = vol.quantile(0.75)\n",
    "QL = vol.quantile(0.25)\n",
    "IQR = QU - QL\n",
    "vol[(vol>(QU + 1.5*IQR)) | (vol<(QU-1.5*IQR))] = np.nan\n",
    "vol.boxplot(grid=False)"
   ]
  },
  {
   "cell_type": "code",
   "execution_count": 13,
   "metadata": {},
   "outputs": [
    {
     "data": {
      "text/plain": [
       "array([[<AxesSubplot:title={'center':'Volume'}>]], dtype=object)"
      ]
     },
     "execution_count": 13,
     "metadata": {},
     "output_type": "execute_result"
    },
    {
     "data": {
      "image/png": "[encoded data removed]",
      "text/plain": [
       "<Figure size 432x288 with 1 Axes>"
      ]
     },
     "metadata": {
      "needs_background": "light"
     },
     "output_type": "display_data"
    }
   ],
   "source": [
    "vol.hist(bins=100)"
   ]
  }
 ],
 "metadata": {
  "kernelspec": {
   "display_name": "Python 3 (ipykernel)",
   "language": "python",
   "name": "python3"
  },
  "language_info": {
   "codemirror_mode": {
    "name": "ipython",
    "version": 3
   },
   "file_extension": ".py",
   "mimetype": "text/x-python",
   "name": "python",
   "nbconvert_exporter": "python",
   "pygments_lexer": "ipython3",
   "version": "3.9.13"
  },
  "widgets": {
   "application/vnd.jupyter.widget-state+json": {
    "state": {},
    "version_major": 2,
    "version_minor": 0
   }
  }
 },
 "nbformat": 4,
 "nbformat_minor": 4
}
