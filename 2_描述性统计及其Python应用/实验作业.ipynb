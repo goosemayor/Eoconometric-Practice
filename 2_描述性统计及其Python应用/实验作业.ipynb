{
 "cells": [
  {
   "cell_type": "markdown",
   "metadata": {},
   "source": [
    "# 实验作业"
   ]
  },
  {
   "cell_type": "markdown",
   "metadata": {},
   "source": [
    "内容：描述性统计\n",
    "\n",
    "要求：\n",
    "\n",
    "使用pandas.read_csv读取路径\"datasets/WAGE1.csv\"文件，对数据集做以下实验：\n",
    "\n",
    "1. 求出样本中的平均受教育年限、以及受教育年限的标准差；\n",
    "2. 样本中有多少女性？\n",
    "3. 绘制小时工资的频数图，你认为它符合正态分布么？"
   ]
  },
  {
   "cell_type": "markdown",
   "metadata": {},
   "source": [
    "完成实验后，请截图上传到学习通作业"
   ]
  },
  {
   "cell_type": "code",
   "execution_count": null,
   "metadata": {},
   "outputs": [],
   "source": []
  }
 ],
 "metadata": {
  "kernelspec": {
   "display_name": "Python 3 (ipykernel)",
   "language": "python",
   "name": "python3"
  },
  "language_info": {
   "codemirror_mode": {
    "name": "ipython",
    "version": 3
   },
   "file_extension": ".py",
   "mimetype": "text/x-python",
   "name": "python",
   "nbconvert_exporter": "python",
   "pygments_lexer": "ipython3",
   "version": "3.9.13"
  },
  "widgets": {
   "application/vnd.jupyter.widget-state+json": {
    "state": {},
    "version_major": 2,
    "version_minor": 0
   }
  }
 },
 "nbformat": 4,
 "nbformat_minor": 4
}
