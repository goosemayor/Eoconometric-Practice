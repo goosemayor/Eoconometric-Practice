{
 "cells": [
  {
   "cell_type": "markdown",
   "id": "fc9eaaa9-2843-4df1-8fda-f583f99c1d8d",
   "metadata": {},
   "source": [
    "# 假设检验的理论"
   ]
  },
  {
   "cell_type": "markdown",
   "id": "3dab0e6a-3bce-45be-9238-631cfaf80661",
   "metadata": {},
   "source": [
    "## 1 假设检验的基本理论"
   ]
  },
  {
   "cell_type": "markdown",
   "id": "80b5c5ee-9d5b-4e73-b10b-5de4f3e3db92",
   "metadata": {},
   "source": [
    "### 1.1 总体均值的假设检验\n",
    "我们想知道一个总体均值是否等于（或大于等于、小于等于）某个常数$\\mu_0$，可以使用$Z$检验或$t$检验。\n",
    "\n",
    "三种假设检验的原假设和备择假设如下：\n",
    "\n",
    "$H_0: \\mu=\\mu_0$，$H_\\alpha:\\mu\\ne\\mu_0$ \n",
    "\n",
    "$H_0: \\mu\\ge\\mu_0$，$H_\\alpha:\\mu\\lt\\mu_0$\n",
    "\n",
    "$H_0: \\mu\\le\\mu_0$，$H_\\alpha:\\mu\\gt\\mu_0$"
   ]
  },
  {
   "cell_type": "markdown",
   "id": "b3063d35-3002-4792-8423-cba5b28513bf",
   "metadata": {},
   "source": [
    "下表告诉我们什么时候使用$t$检验，什么时候使用$Z$检验，这个取决于样本数$n$。\n",
    "\n",
    "||正态总体，n<30|n>=30|\n",
    "|---|---|---|\n",
    "|已知总体方差|$Z$检验|$Z$检验|\n",
    "|未知总体方差|$t$检验|$t$检验或$Z$检验|"
   ]
  },
  {
   "cell_type": "markdown",
   "id": "6efcb1b2-70ea-4588-a6ff-fac55977ddb2",
   "metadata": {},
   "source": [
    "### 1.2 基于统计量的决策规则\n",
    "计算检验统计量之后，怎样判断是拒绝原假设还是不拒绝原假设呢？以双尾$Z$检验，首先画出$Z$分布(标准正态分布)，在两边画出黑色的拒绝区域。\n",
    "\n",
    "拒绝区域的面积之和应等于显著性水平。以显著性水平$\\alpha=0.05$为例，左右两块拒绝区域的面积之和应等于$0.05$，查找正态分布的概率数值表，可知，交界处的数值为$\\pm1.96$。\n"
   ]
  },
  {
   "cell_type": "markdown",
   "id": "281f4ca8-a35e-4b05-9d32-a9e05e786bb8",
   "metadata": {},
   "source": [
    "![n-25](image/norm-25.jpg)"
   ]
  },
  {
   "cell_type": "markdown",
   "id": "4c4d892d-cbbd-4a29-9951-5735bb3f2884",
   "metadata": {},
   "source": [
    "如果从样本数据中计算得出的检验统计量落在拒绝区域，也就是小于1.96，或者大于1.96，就拒绝原假设；如果检验统计量没有落在拒绝区域，也就是在-1.96和1.96之间，就不能拒绝原假设。"
   ]
  },
  {
   "cell_type": "markdown",
   "id": "60015c04-1c8e-4d6b-83f7-7675c98b948d",
   "metadata": {},
   "source": [
    "### 1.3 基于p值和显著性检验的决策规则\n",
    "\n",
    "在统计软件工具中，往往给出的是p值，然后与给定的显著性水平进行比较，以决定拒绝还是不拒绝原假设，这个是基于p值和显著水平的假设检验。\n",
    "\n",
    "首先看p值是什么。对于双尾检验，有两个检验统计量，两个统计量左右两边的面积之和就是p值。因此每一边的面积是p/2。\n",
    "\n",
    "计算p值的目的，就是和显著水平做比较。\n",
    "- 如果p值小于显著水平，说明检验统计量落在拒绝区域，因此拒绝原假设。\n",
    "- 如果p值大于等于显著水平，说明检验统计量没有落在拒绝区域，因此不能拒绝原假设。\n",
    "\n",
    "![norm_p.jpg](image/norm-p.jpg)\n",
    "\n",
    "\n",
    "\n",
    "在做出判断后，我们需要陈述结论。\n",
    "\n",
    "如果不能拒绝原假设，我们不能说接受原假设，只能说不能拒绝原假设$H_0$。"
   ]
  },
  {
   "cell_type": "markdown",
   "id": "5de503d9-0917-4e4e-80d2-1afcc58918f4",
   "metadata": {},
   "source": [
    "## 2. 假设检验的应用：系数$\\beta_1$是否显著不为0？\n",
    "对于一元回归分析方程，如何检验其系数$\\beta_1$是否有效呢？\n",
    "$$\n",
    "Y_i = \\beta_0+\\beta_1X_i+u_i \n",
    "$$\n",
    "$$\n",
    "i是第i次观测，i=1,2,...,n;Y_i是被解释变量，\\beta_0是截距；\\beta_1是总体回归线的斜率，u_i是误差项\n",
    "$$\n"
   ]
  },
  {
   "cell_type": "markdown",
   "id": "ecf77f60-d415-460b-95c0-251190026bb0",
   "metadata": {},
   "source": [
    "在数理统计课中，我们了解过假设检验的基本知识。这里我们应用假设检验来检验系数$\\beta_1$是否有效。"
   ]
  },
  {
   "cell_type": "markdown",
   "id": "c2994765-4180-4088-b29f-f8fc659c447c",
   "metadata": {},
   "source": [
    "### 2.1 假设检验的流程"
   ]
  },
  {
   "cell_type": "markdown",
   "id": "7f05a898-277a-4398-8834-717cd018e7a2",
   "metadata": {},
   "source": [
    "\n",
    "**第一步，建立原假设和备择假设**\n",
    "\n",
    "\n",
    "原假设：总体斜率$\\beta_1$的真值等于某个特定值$\\beta_{1,0}$，双边备择假设假设为$\\beta_1$不等于$\\beta_{1,0}$。即原假设和备择假设分别为：\n",
    "\n",
    "$$\n",
    "H_0: \\beta_1=\\beta_{1,0} \n",
    "$$\n",
    "$$\n",
    "H_1:\\beta_1\\neq\\beta_{1,0}\n",
    "$$\n",
    "\n",
    "通常我们检验回归系数是否显著，也就是显著不为0，我们令$\\beta_{1,0}= 0$，那么原假设和备择假设为：\n",
    "$$\n",
    "H_0: \\beta_1=0 \n",
    "$$\n",
    "$$\n",
    "H_1:\\beta_1\\neq 0\n",
    "$$"
   ]
  },
  {
   "cell_type": "markdown",
   "id": "8e3859be-b096-453c-9fb2-38f421996c4e",
   "metadata": {},
   "source": [
    "\n",
    "**第二步，计算$\\hat{\\beta_1}$的标准误差$SE(\\hat{\\beta_1})$**\n",
    "\n",
    "它是$\\hat{\\beta_1}$抽样分布的标准差$\\sigma_\\hat{\\beta_1}$的估计量。\n",
    "\n",
    "$$\n",
    "SE(\\hat{\\beta_1}) = \\sqrt{\\sigma_\\hat{\\beta_1}^2}\n",
    "$$\n",
    "\n",
    "\n"
   ]
  },
  {
   "cell_type": "markdown",
   "id": "a8e6d6df-c1fd-4471-8aa8-0517ac5f8983",
   "metadata": {},
   "source": [
    "\n",
    "**第三步，计算$t$统计量**\n",
    "\n",
    "对于多元回归分析的系数检验，我们通常并不知道总体的方差是多少，所以选择$t$检验，$t$统计量计算如下：\n",
    "\n",
    "$$\n",
    "t=\\frac{\\hat{\\beta_1}-0}{SE(\\hat{\\beta}_1)}\n",
    "$$\n"
   ]
  },
  {
   "cell_type": "markdown",
   "id": "679ef68c-df6e-47fd-af62-17a8723f7cab",
   "metadata": {},
   "source": [
    "\n",
    "**第四步，计算p值**\n",
    "\n",
    "可以通过查表（教材的附录部分），来得到对应的p值\n",
    "\n",
    "$$\n",
    "p值=Pr_{H_0}(|t|>|t^{act}|)\n",
    "$$\n",
    "\n",
    "\n",
    "如果使用编程工具，那么标准误差、检验$\\beta_1=0$的$t$统计量和$p$值都可以通过回归软件自动计算得到。\n",
    "\n",
    "\n"
   ]
  },
  {
   "cell_type": "markdown",
   "id": "f267d274-1c14-4cd2-bd3e-49e946e8261c",
   "metadata": {},
   "source": [
    "**最后，结论如下：**\n",
    "- 如果$p$值小于$0.05$，则在$5\\%$的显著性水平下拒绝原假设，也就是拒绝$H_0:\\beta_1=0$的假设，换句话说，接受备择假设$H_1:\\beta_1\\neq0$。\n",
    "- 如果$p$值大于$0.05$，则在$5\\%$的显著性水平下不能拒绝原假设，也就是不能拒绝$H_0:\\beta_1=0$的假设，换句话说，拒绝备择假设$H_1:\\beta_1\\neq0$。\n",
    "\n",
    "\n",
    "\n"
   ]
  },
  {
   "cell_type": "markdown",
   "id": "6c384172-671e-47ce-b639-359b7ca75bd9",
   "metadata": {},
   "source": [
    "### 2.2 如何解释上述结论？"
   ]
  },
  {
   "cell_type": "markdown",
   "id": "7cde2641-8b52-4a6c-8d0a-117b99413213",
   "metadata": {},
   "source": [
    "（一）\n",
    "\n",
    "分析对于多元回归分析，我们想要的结论是第一种，也就是$p<0.05$和拒绝$H_0:\\beta_1=0$的假设。\n",
    "\n",
    "我们不希望估计量$\\hat{\\beta_1}$的真值$\\beta_1$等于或者接近0值, 所以假设检验计算的$p$值应该尽可能的小于$0.05$,或者说尽可能接近于0。\n"
   ]
  },
  {
   "cell_type": "markdown",
   "id": "4a596d07-06f5-4366-b76a-442753ce4009",
   "metadata": {},
   "source": [
    "（二）\n",
    "\n",
    "如果得到的结论是第二种，也就是$p>0.05$和不能拒绝$H_0:\\beta_1=0$的假设，\n",
    "\n",
    "那么，估计出来的估计量$\\hat{\\beta_1}$的真值$\\beta_1$在给定置信水平$\\alpha$下极有可能是0，所以我们应该主动删去原始回归表达式中的$\\beta_1$，然后重新进行$OLS$回归。"
   ]
  },
  {
   "cell_type": "markdown",
   "id": "06c2cd2a-42d2-41c2-9ff1-829cf53bf379",
   "metadata": {},
   "source": [
    "上述对于回归系数的假设检验的目的就在于此。"
   ]
  }
 ],
 "metadata": {
  "kernelspec": {
   "display_name": "Python 3 (ipykernel)",
   "language": "python",
   "name": "python3"
  },
  "language_info": {
   "codemirror_mode": {
    "name": "ipython",
    "version": 3
   },
   "file_extension": ".py",
   "mimetype": "text/x-python",
   "name": "python",
   "nbconvert_exporter": "python",
   "pygments_lexer": "ipython3",
   "version": "3.9.13"
  }
 },
 "nbformat": 4,
 "nbformat_minor": 5
}
