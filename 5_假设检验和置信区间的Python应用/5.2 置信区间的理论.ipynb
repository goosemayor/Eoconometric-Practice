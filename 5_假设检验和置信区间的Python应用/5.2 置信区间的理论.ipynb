{
 "cells": [
  {
   "cell_type": "markdown",
   "id": "326fa7b7-d39e-4440-a0c6-8e52deb6ded7",
   "metadata": {},
   "source": [
    "# 置信区间的理论"
   ]
  },
  {
   "cell_type": "markdown",
   "id": "4facbde0-c503-4e7e-932f-aac117cc3744",
   "metadata": {},
   "source": [
    "## 1. 参数估计"
   ]
  },
  {
   "cell_type": "markdown",
   "id": "663d551f-6b16-477b-a309-4551efe3934f",
   "metadata": {},
   "source": [
    "根据样本推断总体的分布和特征称为统计推断。\n",
    "\n",
    "它主要分为两种：\n",
    "- 一种是点估计，就是以某个统计量的样本观察值作为未知参数的估计值；\n",
    "- 另一类是区间估计，就是用两个统计量构成的区间来估计未知参数。"
   ]
  },
  {
   "cell_type": "markdown",
   "id": "9f563d31-4057-4737-af1d-6ec446219153",
   "metadata": {},
   "source": [
    "在估计总体均值的时候，使用样本均值作为总体均值的估计就是点估计。"
   ]
  },
  {
   "cell_type": "markdown",
   "id": "41c8d6d7-e344-4a12-81bd-e9220b54e795",
   "metadata": {},
   "source": [
    "在做区间估计的时候，必须要先规定一个置信度，例如95%。置信度以$1-\\alpha$表示，这里$\\alpha$就是假设检验里的显著性水平。"
   ]
  },
  {
   "cell_type": "markdown",
   "id": "d78eccd4-70d0-47bb-8d3e-6c81842008bc",
   "metadata": {},
   "source": [
    "区间估计的一般公式为：\n",
    "\n",
    "$[点估计-关键值*样本均值的标准误， 点估计+关键值*样本均值的标准误]$\n",
    "\n",
    "如果是关键值是$z$，为\n",
    "\n",
    "$[\\bar{x}-z_{\\alpha/2}*\\frac{s}{\\sqrt{n}}, \\bar{x}+z_{\\alpha/2}*\\frac{s}{\\sqrt{n}}]$"
   ]
  },
  {
   "cell_type": "markdown",
   "id": "9caad691-7b6b-439d-adbe-f80209006d64",
   "metadata": {},
   "source": [
    "下表告诉我们什么时候使用$t$关键值，什么时候使用$Z$关键值，这个取决于样本数$n$。\n",
    "\n",
    "||正态总体，n<30|n>=30|\n",
    "|---|---|---|\n",
    "|已知总体方差|$Z$|$Z$|\n",
    "|未知总体方差|$t$|$t$$Z$|"
   ]
  },
  {
   "cell_type": "markdown",
   "id": "a3296091-e66c-44b6-af46-ee2753c944cd",
   "metadata": {},
   "source": [
    "<img src=\"image/pdf.png\" alt=\"pdf\" style=\"zoom:50%;\" />"
   ]
  },
  {
   "cell_type": "markdown",
   "id": "d77c41bb-8a8f-4385-8105-926d86ed389c",
   "metadata": {},
   "source": [
    "置信度1-$\\alpha$=0.95，$alpha$=0.05。$alpha/2=0.025$，查表可得$Z_{0.025}$=1.96"
   ]
  },
  {
   "cell_type": "markdown",
   "id": "9e1878b0-91d7-4ae6-8070-7799387f8461",
   "metadata": {},
   "source": [
    "使用`scipy.stats.norm.ppf`也能算出来对应置信区间95%的概率值1.96。"
   ]
  },
  {
   "cell_type": "markdown",
   "id": "7427f9e4-f261-4b88-b53c-86040a74bf2b",
   "metadata": {},
   "source": [
    "如果不手动查表也可以，使用scipy库的以下方法，可以计算出给定置信度q的正态分布的概率值。\n",
    "```python\n",
    "scipy.stats.norm.ppf(q)\n",
    "```\n",
    "参数说明：置信度\n",
    "\n",
    "返回值：返回置信度对应的正态分布值\n",
    "\n",
    "\n",
    "cdf是概率的累积分布，即小于等于某个值出现的概率总和。\n",
    "\n",
    "ppf是cdf的逆运算，也就是已知概率总和，求对应的统计量的值。\n",
    "\n",
    "如何理解和绘制cdf和ppf，请查看附录：**绘制pdf_cdf_ppf图.ipynb文件**。\n"
   ]
  },
  {
   "cell_type": "code",
   "execution_count": 1,
   "id": "17e1c09f-cfb9-47c2-b110-bd31e7188193",
   "metadata": {},
   "outputs": [
    {
     "data": {
      "text/plain": [
       "1.959963984540054"
      ]
     },
     "execution_count": 1,
     "metadata": {},
     "output_type": "execute_result"
    }
   ],
   "source": [
    "import scipy.stats as ss\n",
    "ss.norm.ppf(q=0.975)"
   ]
  },
  {
   "cell_type": "markdown",
   "id": "d26ee3c7-882f-407c-bea7-6e9ec66a5a20",
   "metadata": {},
   "source": [
    "\n",
    "## 2. 区间估计的应用：回归系数的置信区间\n",
    "对于一元回归分析方程，如何检验其系数$\\beta_1$的置信区间是怎样的？\n",
    "\n",
    "$$\n",
    "Y_i = \\beta_0+\\beta_1X_i+u_i \n",
    "$$\n",
    "$$\n",
    "i是第i次观测，i=1,2,...,n;Y_i是被解释变量，\\beta_0是截距；\\beta_1是总体回归线的斜率，u_i是误差项\n",
    "$$\n"
   ]
  },
  {
   "cell_type": "markdown",
   "id": "bac785ed-182d-4942-8356-14a14f78006e",
   "metadata": {},
   "source": [
    "\n",
    "如果$\\beta_1$符合正态分布$Z$，那么其$95\\%$双边置信区间是指$95\\%$的概率包含$\\beta_1$真值的区间，即在所有可能的随机抽取的样本中$95\\%$的样本置信区间包含$\\beta_1$的真值。\n",
    "\n",
    "$$\n",
    "\\beta_1的95\\%置信区间=[\\hat{\\beta}-1.96 * SE(\\hat{\\beta_1})，\\hat{\\beta}+1.96 * SE(\\hat{\\beta_1})]\n",
    "$$"
   ]
  },
  {
   "cell_type": "markdown",
   "id": "0d89451e-77b7-46a0-9509-b52e5f5317dc",
   "metadata": {},
   "source": [
    "\n",
    "如果$\\beta_1$符合$t$分布，那么其$95\\%$双边置信区间是指$95\\%$的概率包含$\\beta_1$真值的区间，即在所有可能的随机抽取的样本中$95\\%$的样本置信区间包含$\\beta_1$的真值。\n",
    "\n",
    "$$\n",
    "\\beta_1的95\\%置信区间=[\\hat{\\beta}-t_{\\alpha/2} * SE(\\hat{\\beta_1})，\n",
    "\\hat{\\beta}+t_{\\alpha/2} * SE(\\hat{\\beta_1})]\n",
    "$$"
   ]
  },
  {
   "cell_type": "markdown",
   "id": "fec8b482-7d9c-4750-a43b-3985616e9d5e",
   "metadata": {},
   "source": [
    "95%的双边置信区间，也就是对应双边显著性水平$\\alpha=0.5$，这里$t_{\\alpha/2}$可以通过查表，结合样本自由度来获得。"
   ]
  },
  {
   "cell_type": "markdown",
   "id": "55bf11f1-392d-49e8-9be6-1a439be00372",
   "metadata": {},
   "source": [
    "参照教材定理4.2我们知道自由度为$n-k-1$，$k$为斜率参数的个数，$n$为样本个数。"
   ]
  },
  {
   "cell_type": "code",
   "execution_count": null,
   "id": "7c0c8d0f-fa89-43cc-9246-11fc4b2eb23c",
   "metadata": {},
   "outputs": [],
   "source": []
  }
 ],
 "metadata": {
  "kernelspec": {
   "display_name": "Python 3 (ipykernel)",
   "language": "python",
   "name": "python3"
  },
  "language_info": {
   "codemirror_mode": {
    "name": "ipython",
    "version": 3
   },
   "file_extension": ".py",
   "mimetype": "text/x-python",
   "name": "python",
   "nbconvert_exporter": "python",
   "pygments_lexer": "ipython3",
   "version": "3.9.13"
  }
 },
 "nbformat": 4,
 "nbformat_minor": 5
}
