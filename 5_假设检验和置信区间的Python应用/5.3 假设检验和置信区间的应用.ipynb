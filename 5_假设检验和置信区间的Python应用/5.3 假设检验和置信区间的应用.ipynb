{
 "cells": [
  {
   "cell_type": "markdown",
   "id": "064ac2bc-8152-434f-9cf4-9d5605c3cb9e",
   "metadata": {},
   "source": [
    "# 假设检验和置信区间的应用"
   ]
  },
  {
   "cell_type": "markdown",
   "id": "ece976b3-a5f1-42d0-9bea-394702ede762",
   "metadata": {},
   "source": [
    "某公司计划研究销售人员数量对于新产品销售额的影响。\n",
    "\n",
    "从其下属多家公司中随机抽取10个子公司，这10个子公司当你新产品销售额和销售人员数量统计数据在路径\"数据/销售人员和销售量.csv\"。\n",
    "\n",
    "请试用一元线性回归方法研究人员数量对新产品销售额的计量关系。"
   ]
  },
  {
   "cell_type": "code",
   "execution_count": 9,
   "id": "139a43db-22c1-4658-82ff-7f50620e988c",
   "metadata": {},
   "outputs": [
    {
     "data": {
      "text/html": [
       "<div>\n",
       "<style scoped>\n",
       "    .dataframe tbody tr th:only-of-type {\n",
       "        vertical-align: middle;\n",
       "    }\n",
       "\n",
       "    .dataframe tbody tr th {\n",
       "        vertical-align: top;\n",
       "    }\n",
       "\n",
       "    .dataframe thead th {\n",
       "        text-align: right;\n",
       "    }\n",
       "</style>\n",
       "<table border=\"1\" class=\"dataframe\">\n",
       "  <thead>\n",
       "    <tr style=\"text-align: right;\">\n",
       "      <th></th>\n",
       "      <th>地区</th>\n",
       "      <th>新产品销售额/万元</th>\n",
       "      <th>销售人员数量/人</th>\n",
       "    </tr>\n",
       "  </thead>\n",
       "  <tbody>\n",
       "    <tr>\n",
       "      <th>0</th>\n",
       "      <td>1</td>\n",
       "      <td>385</td>\n",
       "      <td>17</td>\n",
       "    </tr>\n",
       "    <tr>\n",
       "      <th>1</th>\n",
       "      <td>2</td>\n",
       "      <td>251</td>\n",
       "      <td>10</td>\n",
       "    </tr>\n",
       "    <tr>\n",
       "      <th>2</th>\n",
       "      <td>3</td>\n",
       "      <td>701</td>\n",
       "      <td>44</td>\n",
       "    </tr>\n",
       "    <tr>\n",
       "      <th>3</th>\n",
       "      <td>4</td>\n",
       "      <td>479</td>\n",
       "      <td>30</td>\n",
       "    </tr>\n",
       "    <tr>\n",
       "      <th>4</th>\n",
       "      <td>5</td>\n",
       "      <td>433</td>\n",
       "      <td>22</td>\n",
       "    </tr>\n",
       "    <tr>\n",
       "      <th>5</th>\n",
       "      <td>6</td>\n",
       "      <td>411</td>\n",
       "      <td>15</td>\n",
       "    </tr>\n",
       "    <tr>\n",
       "      <th>6</th>\n",
       "      <td>7</td>\n",
       "      <td>355</td>\n",
       "      <td>11</td>\n",
       "    </tr>\n",
       "    <tr>\n",
       "      <th>7</th>\n",
       "      <td>8</td>\n",
       "      <td>217</td>\n",
       "      <td>5</td>\n",
       "    </tr>\n",
       "    <tr>\n",
       "      <th>8</th>\n",
       "      <td>9</td>\n",
       "      <td>581</td>\n",
       "      <td>31</td>\n",
       "    </tr>\n",
       "    <tr>\n",
       "      <th>9</th>\n",
       "      <td>10</td>\n",
       "      <td>653</td>\n",
       "      <td>36</td>\n",
       "    </tr>\n",
       "  </tbody>\n",
       "</table>\n",
       "</div>"
      ],
      "text/plain": [
       "   地区  新产品销售额/万元  销售人员数量/人\n",
       "0   1        385        17\n",
       "1   2        251        10\n",
       "2   3        701        44\n",
       "3   4        479        30\n",
       "4   5        433        22\n",
       "5   6        411        15\n",
       "6   7        355        11\n",
       "7   8        217         5\n",
       "8   9        581        31\n",
       "9  10        653        36"
      ]
     },
     "execution_count": 9,
     "metadata": {},
     "output_type": "execute_result"
    }
   ],
   "source": [
    "import pandas as pd\n",
    "data = pd.read_csv(\"datasets/销售人员和销售量.csv\")\n",
    "data"
   ]
  },
  {
   "cell_type": "markdown",
   "id": "dfdf0539-a498-4704-9d27-931b3ad604a5",
   "metadata": {},
   "source": [
    "## 1. 系数的估计：应用OLS"
   ]
  },
  {
   "cell_type": "code",
   "execution_count": 15,
   "id": "df77da73-44ee-4090-a800-05038a7fe680",
   "metadata": {},
   "outputs": [
    {
     "name": "stderr",
     "output_type": "stream",
     "text": [
      "/Users/hans/opt/anaconda3/lib/python3.9/site-packages/scipy/stats/stats.py:1541: UserWarning: kurtosistest only valid for n>=20 ... continuing anyway, n=10\n",
      "  warnings.warn(\"kurtosistest only valid for n>=20 ... continuing \"\n"
     ]
    },
    {
     "data": {
      "text/html": [
       "<table class=\"simpletable\">\n",
       "<tr>\n",
       "        <td>Model:</td>               <td>OLS</td>         <td>Adj. R-squared:</td>     <td>0.933</td> \n",
       "</tr>\n",
       "<tr>\n",
       "  <td>Dependent Variable:</td>     <td>新产品销售额/万元</td>           <td>AIC:</td>         <td>104.6022</td>\n",
       "</tr>\n",
       "<tr>\n",
       "         <td>Date:</td>        <td>2022-11-01 20:35</td>        <td>BIC:</td>         <td>105.2073</td>\n",
       "</tr>\n",
       "<tr>\n",
       "   <td>No. Observations:</td>         <td>10</td>          <td>Log-Likelihood:</td>    <td>-50.301</td>\n",
       "</tr>\n",
       "<tr>\n",
       "       <td>Df Model:</td>              <td>1</td>           <td>F-statistic:</td>       <td>126.9</td> \n",
       "</tr>\n",
       "<tr>\n",
       "     <td>Df Residuals:</td>            <td>8</td>        <td>Prob (F-statistic):</td> <td>3.46e-06</td>\n",
       "</tr>\n",
       "<tr>\n",
       "      <td>R-squared:</td>            <td>0.941</td>            <td>Scale:</td>         <td>1712.1</td> \n",
       "</tr>\n",
       "</table>\n",
       "<table class=\"simpletable\">\n",
       "<tr>\n",
       "      <td></td>        <th>Coef.</th>  <th>Std.Err.</th>    <th>t</th>     <th>P>|t|</th>  <th>[0.025</th>   <th>0.975]</th> \n",
       "</tr>\n",
       "<tr>\n",
       "  <th>intercept</th> <td>176.2952</td>  <td>27.3269</td> <td>6.4514</td>  <td>0.0002</td> <td>113.2793</td> <td>239.3111</td>\n",
       "</tr>\n",
       "<tr>\n",
       "  <th>销售人员数量/人</th>   <td>12.2310</td>  <td>1.0855</td>  <td>11.2671</td> <td>0.0000</td>  <td>9.7277</td>   <td>14.7343</td>\n",
       "</tr>\n",
       "</table>\n",
       "<table class=\"simpletable\">\n",
       "<tr>\n",
       "     <td>Omnibus:</td>     <td>0.718</td>  <td>Durbin-Watson:</td>   <td>1.407</td>\n",
       "</tr>\n",
       "<tr>\n",
       "  <td>Prob(Omnibus):</td>  <td>0.698</td> <td>Jarque-Bera (JB):</td> <td>0.588</td>\n",
       "</tr>\n",
       "<tr>\n",
       "       <td>Skew:</td>     <td>-0.198</td>     <td>Prob(JB):</td>     <td>0.745</td>\n",
       "</tr>\n",
       "<tr>\n",
       "     <td>Kurtosis:</td>    <td>1.879</td>  <td>Condition No.:</td>    <td>53</td>  \n",
       "</tr>\n",
       "</table>"
      ],
      "text/plain": [
       "<class 'statsmodels.iolib.summary2.Summary'>\n",
       "\"\"\"\n",
       "                 Results: Ordinary least squares\n",
       "=================================================================\n",
       "Model:              OLS              Adj. R-squared:     0.933   \n",
       "Dependent Variable: 新产品销售额/万元        AIC:                104.6022\n",
       "Date:               2022-11-01 20:35 BIC:                105.2073\n",
       "No. Observations:   10               Log-Likelihood:     -50.301 \n",
       "Df Model:           1                F-statistic:        126.9   \n",
       "Df Residuals:       8                Prob (F-statistic): 3.46e-06\n",
       "R-squared:          0.941            Scale:              1712.1  \n",
       "------------------------------------------------------------------\n",
       "            Coef.    Std.Err.     t     P>|t|    [0.025    0.975] \n",
       "------------------------------------------------------------------\n",
       "intercept  176.2952   27.3269   6.4514  0.0002  113.2793  239.3111\n",
       "销售人员数量/人    12.2310    1.0855  11.2671  0.0000    9.7277   14.7343\n",
       "-----------------------------------------------------------------\n",
       "Omnibus:               0.718        Durbin-Watson:          1.407\n",
       "Prob(Omnibus):         0.698        Jarque-Bera (JB):       0.588\n",
       "Skew:                  -0.198       Prob(JB):               0.745\n",
       "Kurtosis:              1.879        Condition No.:          53   \n",
       "=================================================================\n",
       "\n",
       "\"\"\""
      ]
     },
     "execution_count": 15,
     "metadata": {},
     "output_type": "execute_result"
    }
   ],
   "source": [
    "import statsmodels.api as sm\n",
    "data['intercept'] = 1.\n",
    "y = data[\"新产品销售额/万元\"]\n",
    "x = data[['intercept', \"销售人员数量/人\"]]\n",
    "model = sm.OLS(y, x)\n",
    "result = model.fit()\n",
    "result.summary2(alpha=0.05) #指定alpha双侧显著性水平"
   ]
  },
  {
   "cell_type": "markdown",
   "id": "a20afe68-18f3-4ec0-b76a-748c15a66d9c",
   "metadata": {},
   "source": [
    "模型的回归方程是\n",
    "$$\n",
    "新产品销售额/万元 = 12.23 \\times 销售人员数量/人 + 176.3 \n",
    "$$"
   ]
  },
  {
   "cell_type": "markdown",
   "id": "cd7806de-3a25-40d1-badf-1b591cb01f73",
   "metadata": {},
   "source": [
    "## 2. 系数的假设检验"
   ]
  },
  {
   "cell_type": "markdown",
   "id": "77c3f4ab-5abb-4850-abdc-d4a94c7a3d7b",
   "metadata": {},
   "source": [
    "系数$\\beta_0$和$\\beta_1$的假设检验过程，分为4个步骤，这里以$\\beta_1$的假设检验流程为例："
   ]
  },
  {
   "cell_type": "markdown",
   "id": "77cfe8ea-56ac-4ad7-99f0-35b7cbf040c4",
   "metadata": {},
   "source": [
    "**第一步，建立原假设和备择假设**\n",
    "\n",
    "原假设：总体斜率$\\beta_1$的真值等于某个特定值$0$，\n",
    "双边备择假设假设为$\\beta_1$不等于$0$。\n",
    "即原假设和备择假设分别为：\n",
    "\n",
    "$$\n",
    "H_0: \\beta_1=0\n",
    "$$\n",
    "$$\n",
    "H_1:\\beta_1\\neq 0\n",
    "$$\n"
   ]
  },
  {
   "cell_type": "markdown",
   "id": "bacd330e-8e3e-46dd-b7f1-79c26361b4f3",
   "metadata": {},
   "source": [
    "\n",
    "**第二步，计算$\\hat{\\beta_1}$的标准误差$SE(\\hat{\\beta_1})$**\n",
    "\n",
    "它是$\\hat{\\beta_1}$抽样分布的标准差$\\sigma_\\hat{\\beta_1}$的估计量。\n",
    "\n",
    "$$\n",
    "SE(\\hat{\\beta_1}) = \\sqrt{\\sigma_\\hat{\\beta_1}^2}\n",
    "$$\n",
    "\n",
    "\n"
   ]
  },
  {
   "cell_type": "markdown",
   "id": "f124e950-1b46-4901-83b5-86dfb62f343f",
   "metadata": {},
   "source": [
    "\n",
    "**第三步，计算$t$统计量**\n",
    "\n",
    "$$\n",
    "t=\\frac{\\hat{\\beta_1}-0}{SE(\\hat{\\beta}_1)}\n",
    "$$\n"
   ]
  },
  {
   "cell_type": "markdown",
   "id": "3901e8b4-2c22-4ff6-bd0d-4aad25841672",
   "metadata": {},
   "source": [
    "\n",
    "**第四步，计算p值**\n",
    "\n",
    "$$\n",
    "p值=Pr_{H0}(|t|>|t^{act}|)\n",
    "$$\n",
    "\n",
    "如果$p$值小于$0.05$，则在$5\\%$的显著性水平下拒绝原假设。标准误差、检验$\\beta_1=0$的$t$统计量和$p$值都可以通过回归软件自动计算得到。\n",
    "\n",
    "\n"
   ]
  },
  {
   "cell_type": "markdown",
   "id": "fbd5fe69-c72a-45ed-b925-5d977488f0ba",
   "metadata": {},
   "source": [
    "根据一元线性回归OLS估计的结果，我们知道$\\hat{\\beta_1}$的值为12.2310，$SE(\\beta_1)$为1.0855，根据$t$统计量的计算公式："
   ]
  },
  {
   "cell_type": "code",
   "execution_count": 11,
   "id": "31b2bd5c-a9b5-4776-a72f-c8908b79bb71",
   "metadata": {},
   "outputs": [
    {
     "data": {
      "text/plain": [
       "11.267618608935974"
      ]
     },
     "execution_count": 11,
     "metadata": {},
     "output_type": "execute_result"
    }
   ],
   "source": [
    "t = (12.2310 - 0)/1.0855\n",
    "t"
   ]
  },
  {
   "cell_type": "markdown",
   "id": "5b5b9256-550e-419b-adf2-babbf5601026",
   "metadata": {},
   "source": [
    "$t$的结果和上面OLS表的结果是一致的。"
   ]
  },
  {
   "cell_type": "markdown",
   "id": "a7d68de2-a0ef-4442-973f-6d065bd8b9f1",
   "metadata": {},
   "source": [
    "观察上面$销售人员数量/人$这个变量的系数估计量的$p$值，其接近于0，说明拒绝原假设$H_0: \\beta_1=0$，说明我们回归出来的估计量是有效的，统计上是显著的。"
   ]
  },
  {
   "cell_type": "markdown",
   "id": "236a2a9e-0e14-4897-bc37-23ae2df345c1",
   "metadata": {},
   "source": [
    "## 3. 系数的置信区间"
   ]
  },
  {
   "cell_type": "markdown",
   "id": "c0395e6d-9b72-4970-b3f0-6d2a8c32d58f",
   "metadata": {},
   "source": [
    "\n",
    "因为样本量为10个，样本较少，所以我们假设$\\beta_1$符合$t$分布，那么其$95\\%$双边置信区间是指$95\\%$的概率包含$\\beta_1$真值的区间，即在所有可能的随机抽取的样本中$95\\%$的样本置信区间包含$\\beta_1$的真值。\n",
    "\n",
    "$$\n",
    "\\beta_1的95\\%置信区间=[\\hat{\\beta}-t_\\alpha * SE(\\hat{\\beta_1})，\\hat{\\beta}+t_\\alpha * SE(\\hat{\\beta_1})]\n",
    "$$"
   ]
  },
  {
   "cell_type": "markdown",
   "id": "57d06a98-f344-4fdc-a4e3-3d3107180b2c",
   "metadata": {},
   "source": [
    "95%的双边置信区间，也就是对应双边显著性水平0.5，参照教材定理4.2我们知道自由度为$n-k-1$，\n",
    "$k$为斜率参数的个数，$n$为样本个数，这里$n=10$，$k=1$，所以自由度为8，查表$t_{\\alpha/2=2.5\\%, 自由度=8}=2.306$。"
   ]
  },
  {
   "cell_type": "markdown",
   "id": "af1a4a6e-dcbe-4f36-9e4f-be01fb98d13a",
   "metadata": {},
   "source": [
    "根据一元线性回归OLS估计的结果，我们知道$\\beta_1$的估计值$\\hat{\\beta_1}$为12.2310，$SE({\\hat{\\beta_1})}$为1.0855，根据置信区间的计算公式："
   ]
  },
  {
   "cell_type": "code",
   "execution_count": 14,
   "id": "0a7c31d1-19a8-4942-8627-3fde34227963",
   "metadata": {},
   "outputs": [
    {
     "data": {
      "text/plain": [
       "[9.727837000000001, 14.734162999999999]"
      ]
     },
     "execution_count": 14,
     "metadata": {},
     "output_type": "execute_result"
    }
   ],
   "source": [
    "[12.2310-2.306*1.0855, 12.2310+2.306*1.0855]"
   ]
  },
  {
   "cell_type": "markdown",
   "id": "8ed37606-b0d3-4430-9bbd-1c7057992af2",
   "metadata": {},
   "source": [
    "结果上面程序得到的结果是一致的。"
   ]
  }
 ],
 "metadata": {
  "kernelspec": {
   "display_name": "Python 3 (ipykernel)",
   "language": "python",
   "name": "python3"
  },
  "language_info": {
   "codemirror_mode": {
    "name": "ipython",
    "version": 3
   },
   "file_extension": ".py",
   "mimetype": "text/x-python",
   "name": "python",
   "nbconvert_exporter": "python",
   "pygments_lexer": "ipython3",
   "version": "3.9.13"
  }
 },
 "nbformat": 4,
 "nbformat_minor": 5
}
