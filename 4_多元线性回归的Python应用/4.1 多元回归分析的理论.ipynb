{
 "cells": [
  {
   "cell_type": "markdown",
   "id": "7bd3c009-7066-475c-bc28-e6341411a968",
   "metadata": {},
   "source": [
    "# 多元回归分析的理论"
   ]
  },
  {
   "cell_type": "markdown",
   "id": "90722825-0875-4ba7-830b-ce706b26da83",
   "metadata": {},
   "source": [
    "![一元VS多元](image/一元VS多元.png)"
   ]
  },
  {
   "cell_type": "markdown",
   "id": "122b1b41-31d8-4241-84a3-90cf8f82eb1d",
   "metadata": {},
   "source": [
    "\n",
    "## 1. 遗漏变量偏差\n",
    "\n",
    "遗漏变量偏差是当解释变量$X$与遗漏变量相关时，OLS估计量产生的偏差。遗漏变量偏差的产生必须满足两个条件：\n",
    "\n",
    "1. $X$与遗漏变量相关\n",
    "2. 遗漏变量是被解释变量Y的一个决定因素。\n",
    "\n",
    "\n"
   ]
  },
  {
   "cell_type": "markdown",
   "id": "15f2be36-6698-4980-b3da-23be95bafaaa",
   "metadata": {},
   "source": [
    "\n",
    "## 2. 多元回归模型\n",
    "\n",
    "多元回归模型是：\n",
    "$$\n",
    "Y_i = \\beta_0 + \\beta_1X_{1i} + \\beta_2X_{2i} + ... +\\beta_kX_{ki} + u_i,i=1,...,n\n",
    "$$\n",
    "其中：\n",
    "\n",
    "- $Y_i$是被解释变量的第$i$个观测值；$X_{1i},X_{2i},...,X_{ki}$是$k$个解释变量的第$i$个观测值；$u_i$是误差项。\n",
    "- 总体回归线表示的是$Y$和$X$之间的总体平均关系。\n",
    "- $\\beta_1$是$X_1$的斜率系数；$\\beta2$是$X_2$的斜率系数，等等。\n",
    "- 截距$\\beta_0$是当所有解释变量$X$取值为零时$Y$期望值。\n",
    "\n",
    "\n"
   ]
  },
  {
   "cell_type": "markdown",
   "id": "c0ccf8c7-7c75-4d97-ad06-9e8875cc20e6",
   "metadata": {},
   "source": [
    "\n",
    "\n",
    "## 3. 多元回归模型的OLS估计量\n",
    "\n",
    "OLS估计量$\\hat{\\beta_0},\\hat{\\beta_1},...,\\hat{\\beta_k}$为使得预测误差平方和$\\sum^n_{i=1}(Y_i-b_0-b_1X_{1i}-...-b_kX_{ki})^2$达到最小的$b_0,b_1,...,b_k$取值。同时OLS预测值$\\hat{Y_i}$和残差$\\hat{u_i}$分别为：\n",
    "$$\n",
    "\\hat{Y_i}=\\hat{\\beta_0} + \\hat{\\beta_1}X_{1i} + ... + \\hat{\\beta_k}X_{ki}, i=1,...,n\n",
    "$$\n",
    "\n",
    "$$\n",
    "\\hat{u_i}=Y_i-\\hat{Y_i}, i=1,...,n\n",
    "$$\n",
    "\n",
    "其中OLS估计量$\\hat{\\beta_0},\\hat{\\beta_1},...,\\hat{\\beta_k}$和残差$\\hat{u_i}$都是利用$n$组样本观测数据$(X_{1i}, ..., X_{ki},Y_i), i=1,...n$计算得到的。它们分别是未知真实总体系数$\\beta_0,\\beta_1,...,\\beta_k$和误差项$u_i$的估计量。\n",
    "\n",
    "\n",
    "\n",
    "OLS估计量$\\beta_0,\\beta_1,...,\\beta_k$的估计量为$b_0, b_1, ..., b_k$，为使得预测误差平方和：\n",
    "\n",
    "$$\n",
    "\\sum^n_{i=1}(Y_i-b_0-b_1X_{1i}-...-b_kX_{ki})^2\n",
    "$$\n",
    "\n",
    "最小，我们使用OLS方法求的$\\hat{\\beta_0},\\hat{\\beta_1},...,\\hat{\\beta_k}$，为普通最小二乘(OLS)估计量。\n"
   ]
  },
  {
   "cell_type": "markdown",
   "id": "017df980-aa00-4a69-ae25-ff8281a2f1a7",
   "metadata": {},
   "source": [
    "\n",
    "## 4. 拟合优度\n",
    "\n",
    "### 4.1 SER\n",
    "\n",
    "回归标准误（SER）是对误差项$u_i$标准差的估计，故SER可用来度量$Y$的分布在回归线周围的离散程度。\n",
    "$$\n",
    "SER = s_\\hat{u}=\\sqrt{s^2_\\hat{u}}\n",
    "$$\n",
    "\n",
    "### 4.2 $R^2$\n",
    "\n",
    "$$\n",
    "R^2 = \\frac{ESS}{TSS}=\\frac{\\sum^n_{i=1}{(\\hat{Y_i}-\\bar{Y})^2}}{\\sum^n_{i=1}{(Y_i-\\bar{Y})^2}}\n",
    "$$\n",
    "\n",
    "$$\n",
    "R^2 = \\frac{ESS}{TSS}=1-\\frac{SSR}{TSS}\n",
    "$$\n",
    "\n",
    "$$\n",
    "R^2 = 1-\\frac{SSR}{TSS}\n",
    "$$\n",
    "$$\n",
    "SSR为残差平方和\n",
    "$$\n",
    "\n",
    "\n",
    "### 4.3 调整$R^2$\n",
    "\n",
    "$$\n",
    "\\bar{R}^2=1-\\frac{n-1}{n-k-1}\\frac{SSR}{TSS}=1-\\frac{s^2_\\hat{u}}{s^2_Y}\n",
    "$$\n",
    "$$\n",
    "k:斜率系数和截距的数量\n",
    "$$\n",
    "\n",
    "\n"
   ]
  }
 ],
 "metadata": {
  "kernelspec": {
   "display_name": "Python 3 (ipykernel)",
   "language": "python",
   "name": "python3"
  },
  "language_info": {
   "codemirror_mode": {
    "name": "ipython",
    "version": 3
   },
   "file_extension": ".py",
   "mimetype": "text/x-python",
   "name": "python",
   "nbconvert_exporter": "python",
   "pygments_lexer": "ipython3",
   "version": "3.9.13"
  },
  "widgets": {
   "application/vnd.jupyter.widget-state+json": {
    "state": {},
    "version_major": 2,
    "version_minor": 0
   }
  }
 },
 "nbformat": 4,
 "nbformat_minor": 5
}
